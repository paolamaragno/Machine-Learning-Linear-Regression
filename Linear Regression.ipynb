{
 "cells": [
  {
   "cell_type": "markdown",
   "id": "f5690f99",
   "metadata": {},
   "source": [
    "<table width=100%>\n",
    "<tr>\n",
    "    <td><h1 style=\"text-align: left; font-size:300%;\">\n",
    "        Prediction of the area of the fire using the ForestFile dataset\n",
    "    </h1></td>\n",
    "    <td width=\"20%\">\n",
    "    <div style=\"text-align: right\">\n",
    "    <b> Machine Learning 2022</b> <br>\n",
    "    Paola Maragno <br>\n",
    "    <a href=\"mailto:paola.maragno@mail.polimi.it\">paola.maragno@mail.polimi.it</a><br>\n",
    "    </div>\n",
    "    </td>\n",
    "</tr>\n",
    "</table>"
   ]
  },
  {
   "cell_type": "code",
   "execution_count": 2,
   "id": "ad2b8138",
   "metadata": {},
   "outputs": [],
   "source": [
    "from IPython.core.interactiveshell import InteractiveShell\n",
    "InteractiveShell.ast_node_interactivity = \"all\"\n",
    "\n",
    "import matplotlib.pyplot as plt\n",
    "import seaborn as sns\n",
    "import pandas as pd\n",
    "import numpy as np\n",
    "import sklearn\n",
    "import scipy\n",
    "\n",
    "np.random.seed(0)"
   ]
  },
  {
   "cell_type": "code",
   "execution_count": 8,
   "id": "cd4b1dc8",
   "metadata": {},
   "outputs": [],
   "source": [
    "# upload the 'forestfires.csv' dataset\n",
    "fire = pd.read_csv(\"forestfires.csv\")"
   ]
  },
  {
   "cell_type": "markdown",
   "id": "45907ce7",
   "metadata": {},
   "source": [
    "# Exploratory data analysis and pre-processing step"
   ]
  },
  {
   "cell_type": "code",
   "execution_count": 3,
   "id": "1feff273",
   "metadata": {},
   "outputs": [
    {
     "data": {
      "text/plain": [
       "(517, 13)"
      ]
     },
     "execution_count": 3,
     "metadata": {},
     "output_type": "execute_result"
    }
   ],
   "source": [
    "# dimension of the dataset\n",
    "fire.shape\n",
    "# the dataset contains 517 observations (rows) and for each one there are 13 variables specified (columns)"
   ]
  },
  {
   "cell_type": "code",
   "execution_count": 4,
   "id": "836f3a35",
   "metadata": {},
   "outputs": [
    {
     "data": {
      "text/plain": [
       "X          int64\n",
       "Y          int64\n",
       "month     object\n",
       "day       object\n",
       "FFMC      object\n",
       "DMC      float64\n",
       "DC        object\n",
       "ISI       object\n",
       "temp      object\n",
       "RH         int64\n",
       "wind      object\n",
       "rain     float64\n",
       "area     float64\n",
       "dtype: object"
      ]
     },
     "execution_count": 4,
     "metadata": {},
     "output_type": "execute_result"
    }
   ],
   "source": [
    "# visualize the data type of each variable of the dataset\n",
    "fire.dtypes"
   ]
  },
  {
   "cell_type": "code",
   "execution_count": 5,
   "id": "5c612233",
   "metadata": {},
   "outputs": [
    {
     "data": {
      "text/html": [
       "<div>\n",
       "<style scoped>\n",
       "    .dataframe tbody tr th:only-of-type {\n",
       "        vertical-align: middle;\n",
       "    }\n",
       "\n",
       "    .dataframe tbody tr th {\n",
       "        vertical-align: top;\n",
       "    }\n",
       "\n",
       "    .dataframe thead th {\n",
       "        text-align: right;\n",
       "    }\n",
       "</style>\n",
       "<table border=\"1\" class=\"dataframe\">\n",
       "  <thead>\n",
       "    <tr style=\"text-align: right;\">\n",
       "      <th></th>\n",
       "      <th>X</th>\n",
       "      <th>Y</th>\n",
       "      <th>month</th>\n",
       "      <th>day</th>\n",
       "      <th>FFMC</th>\n",
       "      <th>DMC</th>\n",
       "      <th>DC</th>\n",
       "      <th>ISI</th>\n",
       "      <th>temp</th>\n",
       "      <th>RH</th>\n",
       "      <th>wind</th>\n",
       "      <th>rain</th>\n",
       "      <th>area</th>\n",
       "    </tr>\n",
       "  </thead>\n",
       "  <tbody>\n",
       "    <tr>\n",
       "      <th>461</th>\n",
       "      <td>8</td>\n",
       "      <td>6</td>\n",
       "      <td>aug</td>\n",
       "      <td>sat</td>\n",
       "      <td>Missing</td>\n",
       "      <td>231.1</td>\n",
       "      <td>715.1</td>\n",
       "      <td>8.4</td>\n",
       "      <td>18.9</td>\n",
       "      <td>64</td>\n",
       "      <td>4.9</td>\n",
       "      <td>0.0</td>\n",
       "      <td>0.0</td>\n",
       "    </tr>\n",
       "  </tbody>\n",
       "</table>\n",
       "</div>"
      ],
      "text/plain": [
       "     X  Y month  day     FFMC    DMC     DC  ISI  temp  RH wind  rain  area\n",
       "461  8  6   aug  sat  Missing  231.1  715.1  8.4  18.9  64  4.9   0.0   0.0"
      ]
     },
     "execution_count": 5,
     "metadata": {},
     "output_type": "execute_result"
    }
   ],
   "source": [
    "# I expected FFMC, DC, ISI, temp and wind to be quantitative variables. \n",
    "# Since they are reported to be strings I suppose they contain 'Missing' values.\n",
    "# To check it:\n",
    "fire[fire['FFMC'] == 'Missing']\n",
    "# same reasoning for DC, ISI, temp and wind variables"
   ]
  },
  {
   "cell_type": "code",
   "execution_count": 6,
   "id": "dc7c4c7b",
   "metadata": {},
   "outputs": [
    {
     "data": {
      "text/plain": [
       "7"
      ]
     },
     "execution_count": 6,
     "metadata": {},
     "output_type": "execute_result"
    }
   ],
   "source": [
    "# in case there are a lot of missing values it is better to avoid removing all the \n",
    "# rows that contain a missing value, while it is wiser to substiture the \n",
    "# missing values with, for example, the value of that variable in the next row.\n",
    "# So first of all I counted how many missing values are present in the dataset:\n",
    "\n",
    "fire = fire.replace('Missing',np.nan)\n",
    "\n",
    "fire.isnull().sum().sum()"
   ]
  },
  {
   "cell_type": "code",
   "execution_count": 7,
   "id": "a1fc464a",
   "metadata": {},
   "outputs": [],
   "source": [
    "# since there are only 7 missing values I can remove the rows that contain them\n",
    "\n",
    "fire = fire.dropna()"
   ]
  },
  {
   "cell_type": "code",
   "execution_count": 8,
   "id": "a837c870",
   "metadata": {},
   "outputs": [
    {
     "data": {
      "text/plain": [
       "(510, 13)"
      ]
     },
     "execution_count": 8,
     "metadata": {},
     "output_type": "execute_result"
    }
   ],
   "source": [
    "fire.shape"
   ]
  },
  {
   "cell_type": "code",
   "execution_count": 9,
   "id": "a27bd055",
   "metadata": {},
   "outputs": [],
   "source": [
    "# I then casted the string variables in float type\n",
    "fire = fire.astype({\"FFMC\": float})\n",
    "fire = fire.astype({\"DC\": float})\n",
    "fire = fire.astype({\"ISI\": float})\n",
    "fire = fire.astype({\"wind\": float})\n",
    "fire = fire.astype({\"temp\": float})"
   ]
  },
  {
   "cell_type": "code",
   "execution_count": 10,
   "id": "6ef7c23a",
   "metadata": {},
   "outputs": [
    {
     "data": {
      "text/plain": [
       "X          int64\n",
       "Y          int64\n",
       "month     object\n",
       "day       object\n",
       "FFMC     float64\n",
       "DMC      float64\n",
       "DC       float64\n",
       "ISI      float64\n",
       "temp     float64\n",
       "RH         int64\n",
       "wind     float64\n",
       "rain     float64\n",
       "area     float64\n",
       "dtype: object"
      ]
     },
     "execution_count": 10,
     "metadata": {},
     "output_type": "execute_result"
    }
   ],
   "source": [
    "fire.dtypes\n",
    "\n",
    "# once I removed the missing values the only variables of object type are month and day, as expected"
   ]
  },
  {
   "cell_type": "code",
   "execution_count": 11,
   "id": "38efb4cb",
   "metadata": {},
   "outputs": [
    {
     "data": {
      "text/html": [
       "<div>\n",
       "<style scoped>\n",
       "    .dataframe tbody tr th:only-of-type {\n",
       "        vertical-align: middle;\n",
       "    }\n",
       "\n",
       "    .dataframe tbody tr th {\n",
       "        vertical-align: top;\n",
       "    }\n",
       "\n",
       "    .dataframe thead th {\n",
       "        text-align: right;\n",
       "    }\n",
       "</style>\n",
       "<table border=\"1\" class=\"dataframe\">\n",
       "  <thead>\n",
       "    <tr style=\"text-align: right;\">\n",
       "      <th></th>\n",
       "      <th>count</th>\n",
       "      <th>mean</th>\n",
       "      <th>std</th>\n",
       "      <th>min</th>\n",
       "      <th>25%</th>\n",
       "      <th>50%</th>\n",
       "      <th>75%</th>\n",
       "      <th>max</th>\n",
       "    </tr>\n",
       "  </thead>\n",
       "  <tbody>\n",
       "    <tr>\n",
       "      <th>X</th>\n",
       "      <td>510.0</td>\n",
       "      <td>4.650980</td>\n",
       "      <td>2.314163</td>\n",
       "      <td>1.0</td>\n",
       "      <td>3.000</td>\n",
       "      <td>4.000</td>\n",
       "      <td>7.0000</td>\n",
       "      <td>9.00</td>\n",
       "    </tr>\n",
       "    <tr>\n",
       "      <th>Y</th>\n",
       "      <td>510.0</td>\n",
       "      <td>4.298039</td>\n",
       "      <td>1.232100</td>\n",
       "      <td>2.0</td>\n",
       "      <td>4.000</td>\n",
       "      <td>4.000</td>\n",
       "      <td>5.0000</td>\n",
       "      <td>9.00</td>\n",
       "    </tr>\n",
       "    <tr>\n",
       "      <th>FFMC</th>\n",
       "      <td>510.0</td>\n",
       "      <td>90.635686</td>\n",
       "      <td>5.552774</td>\n",
       "      <td>18.7</td>\n",
       "      <td>90.200</td>\n",
       "      <td>91.600</td>\n",
       "      <td>92.9000</td>\n",
       "      <td>96.20</td>\n",
       "    </tr>\n",
       "    <tr>\n",
       "      <th>DMC</th>\n",
       "      <td>510.0</td>\n",
       "      <td>110.812157</td>\n",
       "      <td>64.103740</td>\n",
       "      <td>1.1</td>\n",
       "      <td>68.875</td>\n",
       "      <td>108.300</td>\n",
       "      <td>142.1250</td>\n",
       "      <td>291.30</td>\n",
       "    </tr>\n",
       "    <tr>\n",
       "      <th>DC</th>\n",
       "      <td>510.0</td>\n",
       "      <td>547.918627</td>\n",
       "      <td>248.667923</td>\n",
       "      <td>7.9</td>\n",
       "      <td>434.400</td>\n",
       "      <td>664.200</td>\n",
       "      <td>713.9000</td>\n",
       "      <td>860.60</td>\n",
       "    </tr>\n",
       "    <tr>\n",
       "      <th>ISI</th>\n",
       "      <td>510.0</td>\n",
       "      <td>9.017059</td>\n",
       "      <td>4.571755</td>\n",
       "      <td>0.0</td>\n",
       "      <td>6.500</td>\n",
       "      <td>8.400</td>\n",
       "      <td>10.7750</td>\n",
       "      <td>56.10</td>\n",
       "    </tr>\n",
       "    <tr>\n",
       "      <th>temp</th>\n",
       "      <td>510.0</td>\n",
       "      <td>18.880196</td>\n",
       "      <td>5.820904</td>\n",
       "      <td>2.2</td>\n",
       "      <td>15.500</td>\n",
       "      <td>19.300</td>\n",
       "      <td>22.8000</td>\n",
       "      <td>33.30</td>\n",
       "    </tr>\n",
       "    <tr>\n",
       "      <th>RH</th>\n",
       "      <td>510.0</td>\n",
       "      <td>44.350980</td>\n",
       "      <td>16.359792</td>\n",
       "      <td>15.0</td>\n",
       "      <td>33.000</td>\n",
       "      <td>42.000</td>\n",
       "      <td>53.0000</td>\n",
       "      <td>100.00</td>\n",
       "    </tr>\n",
       "    <tr>\n",
       "      <th>wind</th>\n",
       "      <td>510.0</td>\n",
       "      <td>4.008824</td>\n",
       "      <td>1.793894</td>\n",
       "      <td>0.4</td>\n",
       "      <td>2.700</td>\n",
       "      <td>4.000</td>\n",
       "      <td>4.9000</td>\n",
       "      <td>9.40</td>\n",
       "    </tr>\n",
       "    <tr>\n",
       "      <th>rain</th>\n",
       "      <td>510.0</td>\n",
       "      <td>0.021961</td>\n",
       "      <td>0.297976</td>\n",
       "      <td>0.0</td>\n",
       "      <td>0.000</td>\n",
       "      <td>0.000</td>\n",
       "      <td>0.0000</td>\n",
       "      <td>6.40</td>\n",
       "    </tr>\n",
       "    <tr>\n",
       "      <th>area</th>\n",
       "      <td>510.0</td>\n",
       "      <td>13.023627</td>\n",
       "      <td>64.074082</td>\n",
       "      <td>0.0</td>\n",
       "      <td>0.000</td>\n",
       "      <td>0.645</td>\n",
       "      <td>6.6025</td>\n",
       "      <td>1090.84</td>\n",
       "    </tr>\n",
       "  </tbody>\n",
       "</table>\n",
       "</div>"
      ],
      "text/plain": [
       "      count        mean         std   min      25%      50%       75%      max\n",
       "X     510.0    4.650980    2.314163   1.0    3.000    4.000    7.0000     9.00\n",
       "Y     510.0    4.298039    1.232100   2.0    4.000    4.000    5.0000     9.00\n",
       "FFMC  510.0   90.635686    5.552774  18.7   90.200   91.600   92.9000    96.20\n",
       "DMC   510.0  110.812157   64.103740   1.1   68.875  108.300  142.1250   291.30\n",
       "DC    510.0  547.918627  248.667923   7.9  434.400  664.200  713.9000   860.60\n",
       "ISI   510.0    9.017059    4.571755   0.0    6.500    8.400   10.7750    56.10\n",
       "temp  510.0   18.880196    5.820904   2.2   15.500   19.300   22.8000    33.30\n",
       "RH    510.0   44.350980   16.359792  15.0   33.000   42.000   53.0000   100.00\n",
       "wind  510.0    4.008824    1.793894   0.4    2.700    4.000    4.9000     9.40\n",
       "rain  510.0    0.021961    0.297976   0.0    0.000    0.000    0.0000     6.40\n",
       "area  510.0   13.023627   64.074082   0.0    0.000    0.645    6.6025  1090.84"
      ]
     },
     "execution_count": 11,
     "metadata": {},
     "output_type": "execute_result"
    }
   ],
   "source": [
    "fire.describe().T\n",
    "# summary of the main descriptive statistics of the quantitative variables of the dataset.\n",
    "# There is a great difference in the scale of the different variables: some, like X, Y, wind and rain have \n",
    "# a very low mean value. ISI, temp, RH and area have a medium mean; while FFMC, DMC and DC are in high scale"
   ]
  },
  {
   "cell_type": "code",
   "execution_count": 12,
   "id": "84630abd",
   "metadata": {},
   "outputs": [
    {
     "data": {
      "text/plain": [
       "array([[<AxesSubplot:title={'center':'X'}>,\n",
       "        <AxesSubplot:title={'center':'Y'}>,\n",
       "        <AxesSubplot:title={'center':'FFMC'}>],\n",
       "       [<AxesSubplot:title={'center':'DMC'}>,\n",
       "        <AxesSubplot:title={'center':'DC'}>,\n",
       "        <AxesSubplot:title={'center':'ISI'}>],\n",
       "       [<AxesSubplot:title={'center':'temp'}>,\n",
       "        <AxesSubplot:title={'center':'RH'}>,\n",
       "        <AxesSubplot:title={'center':'wind'}>],\n",
       "       [<AxesSubplot:title={'center':'rain'}>,\n",
       "        <AxesSubplot:title={'center':'area'}>, <AxesSubplot:>]],\n",
       "      dtype=object)"
      ]
     },
     "execution_count": 12,
     "metadata": {},
     "output_type": "execute_result"
    },
    {
     "data": {
      "image/png": "[encoded data removed]",
      "text/plain": [
       "<Figure size 1080x720 with 12 Axes>"
      ]
     },
     "metadata": {
      "needs_background": "light"
     },
     "output_type": "display_data"
    }
   ],
   "source": [
    "# to visualize the distribution of the 11 numerical variables of the dataset I plotted the histogram\n",
    "# of each of them\n",
    "fire.hist(bins=50, figsize=(15,10), ec='w')\n",
    "plt.show()"
   ]
  },
  {
   "cell_type": "code",
   "execution_count": 9,
   "id": "84a86ddb",
   "metadata": {},
   "outputs": [],
   "source": [
    "# from the histogram of the single quantitative variables present in the dataset I noticed that FFMC, ISI, rain and area\n",
    "# have a few extreme points (outliers).\n",
    "\n",
    "# from the distribution of the variable 'area' it's clear that the majority of the fires present a small size and\n",
    "# just a few observations have a high burnt area. \n",
    "# To improve symmetry it is better to do the logarithmic transformation of this variable:\n",
    "fire['log_area'] = np.log1p(fire['area'])"
   ]
  },
  {
   "cell_type": "code",
   "execution_count": 10,
   "id": "05f0bc5d",
   "metadata": {},
   "outputs": [
    {
     "data": {
      "text/plain": [
       "(517, 14)"
      ]
     },
     "execution_count": 10,
     "metadata": {},
     "output_type": "execute_result"
    },
    {
     "data": {
      "text/plain": [
       "(517, 13)"
      ]
     },
     "execution_count": 10,
     "metadata": {},
     "output_type": "execute_result"
    }
   ],
   "source": [
    "# remove the original 'area' feature\n",
    "fire = fire.drop(['area'],axis=1)"
   ]
  },
  {
   "cell_type": "code",
   "execution_count": 15,
   "id": "75cfb3a5",
   "metadata": {},
   "outputs": [
    {
     "data": {
      "text/plain": [
       "<AxesSubplot:>"
      ]
     },
     "execution_count": 15,
     "metadata": {},
     "output_type": "execute_result"
    },
    {
     "data": {
      "image/png": "[encoded data removed]",
      "text/plain": [
       "<Figure size 432x288 with 1 Axes>"
      ]
     },
     "metadata": {
      "needs_background": "light"
     },
     "output_type": "display_data"
    }
   ],
   "source": [
    "fire['log_area'].hist(bins=50, ec='w')\n",
    "plt.show()"
   ]
  },
  {
   "cell_type": "markdown",
   "id": "b95b663d",
   "metadata": {},
   "source": [
    "After the logarithmic tranformation, variable log_area shows values that are distributed in a smaller range but still we can see that more or less half of the observations have value 0 and only a few of them reach high values. So the distribution is still strongly asymmetric."
   ]
  },
  {
   "cell_type": "code",
   "execution_count": 16,
   "id": "e5e9372d",
   "metadata": {},
   "outputs": [
    {
     "data": {
      "text/plain": [
       "<seaborn.axisgrid.PairGrid at 0x7fc828e98a90>"
      ]
     },
     "execution_count": 16,
     "metadata": {},
     "output_type": "execute_result"
    },
    {
     "data": {
      "image/png": "[encoded data removed]",
      "text/plain": [
       "<Figure size 1440x180 with 8 Axes>"
      ]
     },
     "metadata": {
      "needs_background": "light"
     },
     "output_type": "display_data"
    }
   ],
   "source": [
    "plt.rcParams[\"figure.figsize\"] = 10,5\n",
    "\n",
    "fire2 = fire.copy()\n",
    "fire2 = fire2[['X', 'Y', 'FFMC', 'DMC', 'DC', 'ISI', 'temp', 'RH', 'wind', 'rain','log_area']]\n",
    "# I first created a copy of fire dataset removing the categorical variables.\n",
    "# Then I plotted the scatterplot of log_area against each possible variable to see whether they appear correlated somehow\n",
    "sns.pairplot(fire2, x_vars = ['FFMC', 'DMC', 'DC', 'ISI', 'temp', 'RH', 'wind', 'rain'], y_vars=['log_area'], height=2.5)"
   ]
  },
  {
   "cell_type": "markdown",
   "id": "d968d3e0",
   "metadata": {},
   "source": [
    "FMMC-log_area: all the FFMC values are high so there not seems to be a particular trend of the dimension of fire area depending on FFMC.\n",
    "DMC-log_area: higher fire area have medium value of DMC.\n",
    "DC-log_area: higher fire area have high value of DC but in general there not seems to be a particular behaviour of the fire area depending on the DC value.\n",
    "ISI-log_area: all the ISI value are between 0 and 20, there is only an outlier value near 60.\n",
    "temp-log_area: I can see that for the observations in which the area is bigger the temperature is quite high, surely higher than the median value of this variable. \n",
    "RH-log_area: higher fire area have low value of RH, but in general there not seems to be a particular trend of the fire area depending on the RH value.\n",
    "wind-log_area: I can see that for the observations in which the area is bigger the wind is not the highest but it has medium value. In general it doesn't seem to be a trend of the area of the fire depending on the wind since for each of the different scale of area more or less all the wind values have been observed.\n",
    "rain-log_area: almost all the observations have a value of rain equal to 0. What is important to notice is that the only observations with a value of rain bigger than 1.5 have higher area of fire.\n",
    "\n",
    "In conclusion, there not seems to be a clear linear correlation between log_area and other variables."
   ]
  },
  {
   "cell_type": "code",
   "execution_count": 17,
   "id": "a4ef0c68",
   "metadata": {},
   "outputs": [],
   "source": [
    "# I replace the categorical variables month and day with values from 1 to 12 and from 1 to 7, respectively, so that I can represent\n",
    "# the fact that January is closer to February than to September, for example. While Monday is closer to Tuesday than to Friday,\n",
    "# for example\n",
    "fire['month'] = fire['month'].replace(['jan','feb','mar','apr','may','jun','jul','aug','sep','oct','nov','dec'],range(1,13))\n",
    "fire['day'] = fire['day'].replace(['mon','tue','wed','thu','fri','sat','sun'],range(1,8))\n"
   ]
  },
  {
   "cell_type": "code",
   "execution_count": 18,
   "id": "1f06d9c5",
   "metadata": {},
   "outputs": [
    {
     "name": "stdout",
     "output_type": "stream",
     "text": [
      "months\n",
      "8     180\n",
      "9     171\n",
      "3      53\n",
      "7      32\n",
      "2      20\n",
      "6      17\n",
      "10     14\n",
      "4       9\n",
      "12      9\n",
      "1       2\n",
      "5       2\n",
      "11      1\n",
      "Name: month, dtype: int64\n"
     ]
    }
   ],
   "source": [
    "print('months', fire.month.value_counts(), sep='\\n')"
   ]
  },
  {
   "cell_type": "markdown",
   "id": "1c78cc75",
   "metadata": {},
   "source": [
    "The majority of the fires happened in August and September"
   ]
  },
  {
   "cell_type": "code",
   "execution_count": 19,
   "id": "00a0037f",
   "metadata": {},
   "outputs": [
    {
     "name": "stdout",
     "output_type": "stream",
     "text": [
      "day\n",
      "7    93\n",
      "5    84\n",
      "6    81\n",
      "1    73\n",
      "2    64\n",
      "4    61\n",
      "3    54\n",
      "Name: day, dtype: int64\n"
     ]
    }
   ],
   "source": [
    "print('day', fire.day.value_counts(), sep='\\n')"
   ]
  },
  {
   "cell_type": "markdown",
   "id": "53cef688",
   "metadata": {},
   "source": [
    "The majority of the fires occured during the weekend"
   ]
  },
  {
   "cell_type": "code",
   "execution_count": 20,
   "id": "8c9a4923",
   "metadata": {},
   "outputs": [
    {
     "data": {
      "text/plain": [
       "<AxesSubplot:xlabel='month', ylabel='log_area'>"
      ]
     },
     "execution_count": 20,
     "metadata": {},
     "output_type": "execute_result"
    },
    {
     "data": {
      "image/png": "[encoded data removed]",
      "text/plain": [
       "<Figure size 720x360 with 1 Axes>"
      ]
     },
     "metadata": {
      "needs_background": "light"
     },
     "output_type": "display_data"
    }
   ],
   "source": [
    "sns.scatterplot(data=fire, x='month', y='log_area')"
   ]
  },
  {
   "cell_type": "markdown",
   "id": "6c804788",
   "metadata": {},
   "source": [
    "It's visibile that the majority of the fires happened in August and September.\n",
    "The two highest values of burnt area happened in these two months, but except for these two observations low and high value of log_area are reported in the same way in all the month. \n",
    "Consequently, I don't expect month to be a variable important to predict the dimension of the burnt area."
   ]
  },
  {
   "cell_type": "code",
   "execution_count": 21,
   "id": "781c9ff6",
   "metadata": {},
   "outputs": [
    {
     "data": {
      "text/plain": [
       "<AxesSubplot:xlabel='day', ylabel='log_area'>"
      ]
     },
     "execution_count": 21,
     "metadata": {},
     "output_type": "execute_result"
    },
    {
     "data": {
      "image/png": "[encoded data removed]",
      "text/plain": [
       "<Figure size 720x360 with 1 Axes>"
      ]
     },
     "metadata": {
      "needs_background": "light"
     },
     "output_type": "display_data"
    }
   ],
   "source": [
    "sns.scatterplot(data=fire, x='day', y='log_area')"
   ]
  },
  {
   "cell_type": "markdown",
   "id": "b657e680",
   "metadata": {},
   "source": [
    "It is clear that bigger fires occured in the same way in all the days of the week, suggesting that also this variable is not expected to be relevant for the prediction of the dimension of the burnt area"
   ]
  },
  {
   "cell_type": "code",
   "execution_count": 22,
   "id": "24c1aad1",
   "metadata": {},
   "outputs": [
    {
     "data": {
      "text/plain": [
       "<AxesSubplot:xlabel='month', ylabel='temp'>"
      ]
     },
     "execution_count": 22,
     "metadata": {},
     "output_type": "execute_result"
    },
    {
     "data": {
      "image/png": "[encoded data removed]",
      "text/plain": [
       "<Figure size 720x360 with 1 Axes>"
      ]
     },
     "metadata": {
      "needs_background": "light"
     },
     "output_type": "display_data"
    }
   ],
   "source": [
    "sns.scatterplot(data=fire, x='month', y='temp')"
   ]
  },
  {
   "cell_type": "markdown",
   "id": "500fa239",
   "metadata": {},
   "source": [
    "July, August and September are the months in which the temperature reaches higher values"
   ]
  },
  {
   "cell_type": "code",
   "execution_count": 23,
   "id": "0fe4a78e",
   "metadata": {},
   "outputs": [
    {
     "data": {
      "text/plain": [
       "<AxesSubplot:xlabel='day', ylabel='temp'>"
      ]
     },
     "execution_count": 23,
     "metadata": {},
     "output_type": "execute_result"
    },
    {
     "data": {
      "image/png": "[encoded data removed]",
      "text/plain": [
       "<Figure size 720x360 with 1 Axes>"
      ]
     },
     "metadata": {
      "needs_background": "light"
     },
     "output_type": "display_data"
    }
   ],
   "source": [
    "sns.scatterplot(data=fire, x='day', y='temp')"
   ]
  },
  {
   "cell_type": "markdown",
   "id": "8ebd61f6",
   "metadata": {},
   "source": [
    "Temperature is distributed in the same way in different days of the weak"
   ]
  },
  {
   "cell_type": "code",
   "execution_count": 24,
   "id": "bea105c4",
   "metadata": {},
   "outputs": [
    {
     "data": {
      "text/plain": [
       "<AxesSubplot:xlabel='month', ylabel='rain'>"
      ]
     },
     "execution_count": 24,
     "metadata": {},
     "output_type": "execute_result"
    },
    {
     "data": {
      "image/png": "[encoded data removed]",
      "text/plain": [
       "<Figure size 720x360 with 1 Axes>"
      ]
     },
     "metadata": {
      "needs_background": "light"
     },
     "output_type": "display_data"
    }
   ],
   "source": [
    "sns.scatterplot(data=fire, x='month', y='rain')"
   ]
  },
  {
   "cell_type": "markdown",
   "id": "441d2089",
   "metadata": {},
   "source": [
    "In general very few rain events have been observed, almost all of them in August"
   ]
  },
  {
   "cell_type": "code",
   "execution_count": 25,
   "id": "abf64c2b",
   "metadata": {},
   "outputs": [
    {
     "data": {
      "text/plain": [
       "<AxesSubplot:xlabel='month', ylabel='wind'>"
      ]
     },
     "execution_count": 25,
     "metadata": {},
     "output_type": "execute_result"
    },
    {
     "data": {
      "image/png": "[encoded data removed]",
      "text/plain": [
       "<Figure size 720x360 with 1 Axes>"
      ]
     },
     "metadata": {
      "needs_background": "light"
     },
     "output_type": "display_data"
    }
   ],
   "source": [
    "sns.scatterplot(data=fire, x='month', y='wind')"
   ]
  },
  {
   "cell_type": "markdown",
   "id": "06b3b504",
   "metadata": {},
   "source": [
    "Wind doesn't have a particular distribution depending on the months in which the fire occured: high and low values of wind have been observed more or less in all the months."
   ]
  },
  {
   "cell_type": "code",
   "execution_count": 26,
   "id": "12fcad08",
   "metadata": {},
   "outputs": [
    {
     "data": {
      "text/plain": [
       "<AxesSubplot:xlabel='day', ylabel='wind'>"
      ]
     },
     "execution_count": 26,
     "metadata": {},
     "output_type": "execute_result"
    },
    {
     "data": {
      "image/png": "[encoded data removed]",
      "text/plain": [
       "<Figure size 720x360 with 1 Axes>"
      ]
     },
     "metadata": {
      "needs_background": "light"
     },
     "output_type": "display_data"
    }
   ],
   "source": [
    "sns.scatterplot(data=fire, x='day', y='wind')"
   ]
  },
  {
   "cell_type": "markdown",
   "id": "e16bad70",
   "metadata": {},
   "source": [
    "Wind has quite the same distribution in the different days of the week"
   ]
  },
  {
   "cell_type": "markdown",
   "id": "2d9d7bd9",
   "metadata": {},
   "source": [
    "All the previous scatterplots between month or day and a different variable (I chose only some of the variables that I thought may change during the different months) are not very significative since months belong to different years while days belongs to weeks of different months and/or years. Consequently looking at the trend of a variable on respect to months that are actually of different years is not significant since even considering the same month the observations that are reported in the scatterplot come from months of different years"
   ]
  },
  {
   "cell_type": "markdown",
   "id": "fe8a0724",
   "metadata": {},
   "source": [
    "# Linear regression"
   ]
  },
  {
   "cell_type": "code",
   "execution_count": 27,
   "id": "8553823c",
   "metadata": {},
   "outputs": [],
   "source": [
    "X_features = fire.columns.to_list()\n",
    "# list of all the features in the fire dataset \n",
    "X_features.remove('log_area')"
   ]
  },
  {
   "cell_type": "code",
   "execution_count": 28,
   "id": "0fed3616",
   "metadata": {},
   "outputs": [
    {
     "name": "stdout",
     "output_type": "stream",
     "text": [
      "X.shape  (510, 12)\n",
      "y.shape  (510,)\n",
      "X_train.shape  (357, 12)\n",
      "X_test.shape  (153, 12)\n",
      "Train R2 score  0.03668203270214054\n",
      "Train MSE score  1.8555244360196985\n",
      "Test R2 score  0.009942320601879162\n",
      "Test MSE score  2.0208956896937025\n"
     ]
    }
   ],
   "source": [
    "from sklearn.model_selection import train_test_split\n",
    "from sklearn.linear_model import LinearRegression\n",
    "from sklearn.metrics import r2_score, mean_squared_error\n",
    "\n",
    "# definition of X dataset, made of the values of the different X covariates, for the 510 observations\n",
    "X = fire[X_features].to_numpy()\n",
    "y = fire['log_area'].to_numpy()\n",
    "print(\"X.shape \", X.shape)\n",
    "print(\"y.shape \", y.shape)\n",
    "\n",
    "fire_test_size = 0.3\n",
    "# the test set will contain the 30% of the total observations present in the original fire dataset\n",
    "fire_test_seed = 40\n",
    "# Split X and y into train and test\n",
    "X_train, X_test, y_train, y_test = train_test_split(X, y, test_size=fire_test_size, random_state=fire_test_seed)\n",
    "print(\"X_train.shape \", X_train.shape)\n",
    "print(\"X_test.shape \", X_test.shape)\n",
    "\n",
    "\n",
    "model = LinearRegression(fit_intercept=True) \n",
    "# first I created the linear regression model object\n",
    "model = model.fit(X_train, y_train) \n",
    "# than I fitted the model using the observations of the train set\n",
    "\n",
    "# once the model was fitted I used it to predict the area of the observations of the test set\n",
    "# giving as input the values of the variables of these observations, excluding the value\n",
    "# of their log_area since it is what I wanted to predict\n",
    "y_predict_test = model.predict(X_test)\n",
    "y_predict_train = model.predict(X_train)\n",
    "\n",
    "print(\"Train R2 score \", r2_score(y_train, y_predict_train))\n",
    "print(\"Train MSE score \", mean_squared_error(y_train, y_predict_train))\n",
    "# error of the fitted model on the training set\n",
    "\n",
    "print(\"Test R2 score \", r2_score(y_test, y_predict_test))\n",
    "print(\"Test MSE score \", mean_squared_error(y_test, y_predict_test))\n",
    "# error of the fitted model on the test set"
   ]
  },
  {
   "cell_type": "markdown",
   "id": "6dd97123",
   "metadata": {},
   "source": [
    "The R2 scores on both the train and the test set are very low: this suggests that this model is not very good since the proportion of the total variability of the data that the model is able to explain is the 3.7% in the train set and the 1% in the test set. "
   ]
  },
  {
   "cell_type": "code",
   "execution_count": 29,
   "id": "8db6e4e3",
   "metadata": {},
   "outputs": [
    {
     "name": "stdout",
     "output_type": "stream",
     "text": [
      "The coefficient for X is 0.04347725360028954\n",
      "The coefficient for Y is 0.03388147225309197\n",
      "The coefficient for month is 0.10312115752347539\n",
      "The coefficient for day is 0.03589182518974683\n",
      "The coefficient for FFMC is 0.013881445186857086\n",
      "The coefficient for DMC is -0.00012085770495529752\n",
      "The coefficient for DC is -0.00047018313748525137\n",
      "The coefficient for ISI is -0.023654626268406143\n",
      "The coefficient for temp is 0.0011352784391768732\n",
      "The coefficient for RH is 0.00018294210528416437\n",
      "The coefficient for wind is 0.07966811139125471\n",
      "The coefficient for rain is 0.11774454292508382\n",
      "The intercept is -1.282\n"
     ]
    }
   ],
   "source": [
    "# beta coefficients of the model fitted on the train set\n",
    "for idx, col_name in enumerate(X_features):\n",
    "    print(\"The coefficient for {} is {}\".format(col_name, model.coef_[idx]))\n",
    "print(\"The intercept is {:0.3f}\".format(model.intercept_))"
   ]
  },
  {
   "cell_type": "code",
   "execution_count": 30,
   "id": "ec94ab34",
   "metadata": {},
   "outputs": [],
   "source": [
    "from scipy.stats import t, f\n",
    "\n",
    "# I used the functions defined in the second laboratory of ML to compute different\n",
    "# statistics that can be used to assess the quality of the just fitted model\n",
    "\n",
    "# definition of a function to cumpute the residual sum of squares as the sum of the squared difference between\n",
    "# the true response and the predicted one\n",
    "def rss(y_true, y_pred):\n",
    "    y_true = y_true.reshape(y_pred.shape)\n",
    "    return np.sum((y_true - y_pred) ** 2)\n",
    "\n",
    "# definition of a function to compute the total sum of squares as the sum of the squared difference\n",
    "# between the true y values and the mean of the true y values\n",
    "def tss(y):\n",
    "    return np.sum((y - y.mean()) ** 2)\n",
    "\n",
    "# definition of a function that creates the linear regression model object, fits it on the \n",
    "# X and y set and then returns the y values predicted using the X observations and the list of\n",
    "# beta coefficients of the just fitted model\n",
    "def multiple_least_squares(X, y):\n",
    "    model = LinearRegression(fit_intercept=True)\n",
    "    model.fit(X, y)\n",
    "    y_pred = model.predict(X)\n",
    "    betas = [model.intercept_, *model.coef_]\n",
    "    return betas, y_pred\n",
    "\n",
    "# definition of a function that computes t-statistics for the coefficients\n",
    "def show_stats(X, y, betas, names, alpha=None):\n",
    "    n_samples, n_features = X.shape\n",
    "    deg = n_samples-n_features\n",
    "    \n",
    "    # in case the ones column has not been added it is added with the following code\n",
    "    if X.shape[1] + 1 == betas.shape[0]:\n",
    "        X = np.concatenate([np.ones([X.shape[0], 1]), X], axis=-1)\n",
    "    \n",
    "    pred = X.dot(betas).reshape(-1)\n",
    "    betas = betas.reshape(-1)\n",
    "    y = y.reshape(-1)\n",
    "    RSE = ((y-pred)**2).sum()/(n_samples - n_features)\n",
    "    # residual standard error is computed as the ratio between the RSS and the degree\n",
    "\n",
    "    # to compute the t-statistics first of all the variance is computed, then the standard \n",
    "    # deviation and eventually the t-statistics\n",
    "    se2_b = RSE*(np.linalg.inv(np.dot(X.T, X)).diagonal())\n",
    "    se_b = np.sqrt(se2_b)\n",
    "    t_stat_b = (betas - 0) / se_b\n",
    "\n",
    "    # Compute the p-value\n",
    "    p_values = np.array([2*t.sf(np.abs(t_stat), deg) for t_stat in t_stat_b])\n",
    "    \n",
    "    df = pd.DataFrame()\n",
    "    df[\"Name\"] = names\n",
    "    df[\"Coefficients\"] = betas\n",
    "    df[\"Standard Errors\"] = se_b\n",
    "    df[\"t-stat\"] = t_stat_b\n",
    "    df[\"p-value\"] = p_values\n",
    "    if alpha:\n",
    "        rejectH0 = p_values < alpha\n",
    "        df[\"reject H0\"] = rejectH0    \n",
    "    \n",
    "    RSS = np.sum((y - pred)**2)\n",
    "    MSE = RSS/y.shape[0]\n",
    "    print(\"RSS: {}\".format(RSS))\n",
    "    \n",
    "    return df"
   ]
  },
  {
   "cell_type": "code",
   "execution_count": 31,
   "id": "c4deac7f",
   "metadata": {},
   "outputs": [
    {
     "name": "stdout",
     "output_type": "stream",
     "text": [
      "RSS: 662.4222236590324\n"
     ]
    },
    {
     "data": {
      "text/html": [
       "<div>\n",
       "<style scoped>\n",
       "    .dataframe tbody tr th:only-of-type {\n",
       "        vertical-align: middle;\n",
       "    }\n",
       "\n",
       "    .dataframe tbody tr th {\n",
       "        vertical-align: top;\n",
       "    }\n",
       "\n",
       "    .dataframe thead th {\n",
       "        text-align: right;\n",
       "    }\n",
       "</style>\n",
       "<table border=\"1\" class=\"dataframe\">\n",
       "  <thead>\n",
       "    <tr style=\"text-align: right;\">\n",
       "      <th></th>\n",
       "      <th>Name</th>\n",
       "      <th>Coefficients</th>\n",
       "      <th>Standard Errors</th>\n",
       "      <th>t-stat</th>\n",
       "      <th>p-value</th>\n",
       "      <th>reject H0</th>\n",
       "    </tr>\n",
       "  </thead>\n",
       "  <tbody>\n",
       "    <tr>\n",
       "      <th>0</th>\n",
       "      <td>Intercept</td>\n",
       "      <td>-1.282032</td>\n",
       "      <td>1.523741</td>\n",
       "      <td>-0.841372</td>\n",
       "      <td>0.400723</td>\n",
       "      <td>False</td>\n",
       "    </tr>\n",
       "    <tr>\n",
       "      <th>1</th>\n",
       "      <td>X</td>\n",
       "      <td>0.043477</td>\n",
       "      <td>0.037446</td>\n",
       "      <td>1.161065</td>\n",
       "      <td>0.246418</td>\n",
       "      <td>False</td>\n",
       "    </tr>\n",
       "    <tr>\n",
       "      <th>2</th>\n",
       "      <td>Y</td>\n",
       "      <td>0.033881</td>\n",
       "      <td>0.072630</td>\n",
       "      <td>0.466493</td>\n",
       "      <td>0.641157</td>\n",
       "      <td>False</td>\n",
       "    </tr>\n",
       "    <tr>\n",
       "      <th>3</th>\n",
       "      <td>month</td>\n",
       "      <td>0.103121</td>\n",
       "      <td>0.072900</td>\n",
       "      <td>1.414550</td>\n",
       "      <td>0.158102</td>\n",
       "      <td>False</td>\n",
       "    </tr>\n",
       "    <tr>\n",
       "      <th>4</th>\n",
       "      <td>day</td>\n",
       "      <td>0.035892</td>\n",
       "      <td>0.036561</td>\n",
       "      <td>0.981709</td>\n",
       "      <td>0.326931</td>\n",
       "      <td>False</td>\n",
       "    </tr>\n",
       "    <tr>\n",
       "      <th>5</th>\n",
       "      <td>FFMC</td>\n",
       "      <td>0.013881</td>\n",
       "      <td>0.015240</td>\n",
       "      <td>0.910854</td>\n",
       "      <td>0.363008</td>\n",
       "      <td>False</td>\n",
       "    </tr>\n",
       "    <tr>\n",
       "      <th>6</th>\n",
       "      <td>DMC</td>\n",
       "      <td>-0.000121</td>\n",
       "      <td>0.001953</td>\n",
       "      <td>-0.061894</td>\n",
       "      <td>0.950683</td>\n",
       "      <td>False</td>\n",
       "    </tr>\n",
       "    <tr>\n",
       "      <th>7</th>\n",
       "      <td>DC</td>\n",
       "      <td>-0.000470</td>\n",
       "      <td>0.000850</td>\n",
       "      <td>-0.553004</td>\n",
       "      <td>0.580619</td>\n",
       "      <td>False</td>\n",
       "    </tr>\n",
       "    <tr>\n",
       "      <th>8</th>\n",
       "      <td>ISI</td>\n",
       "      <td>-0.023655</td>\n",
       "      <td>0.018824</td>\n",
       "      <td>-1.256628</td>\n",
       "      <td>0.209738</td>\n",
       "      <td>False</td>\n",
       "    </tr>\n",
       "    <tr>\n",
       "      <th>9</th>\n",
       "      <td>temp</td>\n",
       "      <td>0.001135</td>\n",
       "      <td>0.021546</td>\n",
       "      <td>0.052690</td>\n",
       "      <td>0.958009</td>\n",
       "      <td>False</td>\n",
       "    </tr>\n",
       "    <tr>\n",
       "      <th>10</th>\n",
       "      <td>RH</td>\n",
       "      <td>0.000183</td>\n",
       "      <td>0.006669</td>\n",
       "      <td>0.027430</td>\n",
       "      <td>0.978133</td>\n",
       "      <td>False</td>\n",
       "    </tr>\n",
       "    <tr>\n",
       "      <th>11</th>\n",
       "      <td>wind</td>\n",
       "      <td>0.079668</td>\n",
       "      <td>0.043359</td>\n",
       "      <td>1.837414</td>\n",
       "      <td>0.067009</td>\n",
       "      <td>False</td>\n",
       "    </tr>\n",
       "    <tr>\n",
       "      <th>12</th>\n",
       "      <td>rain</td>\n",
       "      <td>0.117745</td>\n",
       "      <td>0.216077</td>\n",
       "      <td>0.544920</td>\n",
       "      <td>0.586161</td>\n",
       "      <td>False</td>\n",
       "    </tr>\n",
       "  </tbody>\n",
       "</table>\n",
       "</div>"
      ],
      "text/plain": [
       "         Name  Coefficients  Standard Errors    t-stat   p-value  reject H0\n",
       "0   Intercept     -1.282032         1.523741 -0.841372  0.400723      False\n",
       "1           X      0.043477         0.037446  1.161065  0.246418      False\n",
       "2           Y      0.033881         0.072630  0.466493  0.641157      False\n",
       "3       month      0.103121         0.072900  1.414550  0.158102      False\n",
       "4         day      0.035892         0.036561  0.981709  0.326931      False\n",
       "5        FFMC      0.013881         0.015240  0.910854  0.363008      False\n",
       "6         DMC     -0.000121         0.001953 -0.061894  0.950683      False\n",
       "7          DC     -0.000470         0.000850 -0.553004  0.580619      False\n",
       "8         ISI     -0.023655         0.018824 -1.256628  0.209738      False\n",
       "9        temp      0.001135         0.021546  0.052690  0.958009      False\n",
       "10         RH      0.000183         0.006669  0.027430  0.978133      False\n",
       "11       wind      0.079668         0.043359  1.837414  0.067009      False\n",
       "12       rain      0.117745         0.216077  0.544920  0.586161      False"
      ]
     },
     "execution_count": 31,
     "metadata": {},
     "output_type": "execute_result"
    }
   ],
   "source": [
    "# perform the t-test on each coefficient of the fitted linear model:\n",
    "# H0: there is no relation between the variable X and Y\n",
    "# H1: there is some relation between X and Y\n",
    "betas = np.array([model.intercept_, *model.coef_]).reshape(-1, 1)\n",
    "show_stats(X_train, y_train, betas, ['Intercept', *X_features], alpha=0.05)"
   ]
  },
  {
   "cell_type": "markdown",
   "id": "d40181ab",
   "metadata": {},
   "source": [
    "With the previous function I tested the significance of each coefficient independently from the others, and so the effect of each variable on the output predicted by the model without considering that at the same time there are other variables that can have an effect on the output.\n",
    "The result shows that there isn't any coefficient that, with a level of significance of 0.05, is significantly  different from 0."
   ]
  },
  {
   "cell_type": "code",
   "execution_count": 32,
   "id": "ad72ee30",
   "metadata": {},
   "outputs": [
    {
     "name": "stdout",
     "output_type": "stream",
     "text": [
      "F-stat:  1.0915934715488271\n",
      "p-value:  0.36602935972425626\n"
     ]
    }
   ],
   "source": [
    "# compute the list of coefficients of the model fitted on the train set and the predicted response using the previous \n",
    "# defined function\n",
    "betas, y_pred = multiple_least_squares(X_train, y_train)\n",
    "\n",
    "n = X_train.shape[0]\n",
    "nf = X_train.shape[1]\n",
    "\n",
    "# Compute RSS and TSS using the previous defined functions\n",
    "rss = rss(y_train, y_pred)\n",
    "tss_y = tss(y_train)\n",
    "\n",
    "# H0: all the coefficients are equal 0;\n",
    "# H1: at least one coefficient is different from 0.\n",
    "\n",
    "# Compute the nominator of the F statistics as the difference between the TSS and RSS divided by the number of \n",
    "# features of the model\n",
    "F_num = (tss_y - rss) / nf\n",
    "# compute the denominator of the F statistics as the RSS divided by the difference between the \n",
    "# number of observations of the train test and the number of features -1\n",
    "F_den = rss / (n - nf - 1)\n",
    "F = F_num / F_den\n",
    "\n",
    "# Compute the p-value knowing that F statistics follows a Fisher distribution\n",
    "p_value = f.sf(F, nf, n - nf - 1)\n",
    "\n",
    "print(\"F-stat: \", F)\n",
    "print(\"p-value: \", p_value)\n"
   ]
  },
  {
   "cell_type": "markdown",
   "id": "3d549780",
   "metadata": {},
   "source": [
    "In our case we obtained an F-statistics of 1.09: being very close to 1 it means that there isn't any coefficient different from 0.\n",
    "In fact the p-value is 0.37 meaning that, choosing a level of significance alpha = 0.05, \n",
    "the H0 hypothesis can't be rejected and so I can't say that at least one coefficient of this\n",
    "linear regression model is different from 0. "
   ]
  },
  {
   "cell_type": "markdown",
   "id": "291fd96f",
   "metadata": {},
   "source": [
    "F statistic is more accurate than t statistic computed for each parameter since it corrects for the other parameters: in t-test you are  computing the usefulness of a parameter without the others, while in F-test you are evaluating the usefulness of a parameter when the others are present."
   ]
  },
  {
   "cell_type": "markdown",
   "id": "9c5e9688",
   "metadata": {},
   "source": [
    "## Polynomial regression "
   ]
  },
  {
   "cell_type": "code",
   "execution_count": 33,
   "id": "b02c5d80",
   "metadata": {},
   "outputs": [],
   "source": [
    "fire_test_seed_v3=41\n",
    "X_trainP, X_val, y_trainP, y_val = train_test_split(X_train, y_train, \n",
    "                                                    test_size=y_test.shape[0],\n",
    "                                                    random_state=fire_test_seed_v3)"
   ]
  },
  {
   "cell_type": "markdown",
   "id": "ca05e3c1",
   "metadata": {},
   "source": [
    "In Polynomial regression the validation set, instead of the test set, is used to compute the performance of the model depending on the different degrees.\n",
    "By the end the best degree parameter found on the validation set is used to train the model on the train set. Eventually the performance of the model with the best degree is computed on the test set."
   ]
  },
  {
   "cell_type": "code",
   "execution_count": 34,
   "id": "c9e62308",
   "metadata": {},
   "outputs": [
    {
     "name": "stdout",
     "output_type": "stream",
     "text": [
      "Best degree:  1 \n",
      "Val score:  -0.10812470406214358\n",
      "Test score: 0.009942320601879162\n"
     ]
    }
   ],
   "source": [
    "from sklearn.pipeline import Pipeline\n",
    "from sklearn.preprocessing import PolynomialFeatures\n",
    "from sklearn.model_selection import GridSearchCV\n",
    "\n",
    "degree = list(range(1,5))\n",
    "test_scores = np.zeros(len(degree))\n",
    "val_scores = np.zeros(len(degree))\n",
    "train_scores = np.zeros(len(degree))\n",
    "\n",
    "# Validation\n",
    "for i, d in enumerate(degree):\n",
    "    # for each degree I compute the Poly object \n",
    "    model = Pipeline([('poly', PolynomialFeatures(degree=d, include_bias=False)),\n",
    "                      ('linear', LinearRegression(fit_intercept=True))])\n",
    "    # the model object is fitted on the train set\n",
    "    model = model.fit(X_trainP, y_trainP)\n",
    "    \n",
    "    # the fitted model is evaluated on the validation test\n",
    "    y_predict = model.predict(X_val)\n",
    "    val_score = r2_score(y_val, y_predict)\n",
    "    # the fitted model is evaluated on the test test\n",
    "    y_predict = model.predict(X_test)\n",
    "    test_score = r2_score(y_test, y_predict)\n",
    "    # the fitted model is evaluated on the train test\n",
    "    y_predict = model.predict(X_trainP)\n",
    "    train_score = r2_score(y_trainP, y_predict)\n",
    "    \n",
    "    # the just computed scores of the model with degree d on the validation, test and train set\n",
    "    # are saved into the corresponding list to keep track of them \n",
    "    val_scores[i] = val_score\n",
    "    test_scores[i] = test_score\n",
    "    train_scores[i] = train_score\n",
    "\n",
    "# identification of the best validation score and of the corresponding degree\n",
    "best_model_idx = np.argmax(val_scores)\n",
    "best_degree = degree[best_model_idx]\n",
    "best_val_score = val_scores[best_model_idx]\n",
    "print(\"Best degree: \", best_degree,\n",
    "      \"\\nVal score: \", best_val_score)\n",
    "    \n",
    "# Train again the Pipeline using the best degree parameter and the whole training set\n",
    "model = Pipeline([('poly', PolynomialFeatures(degree=best_degree, include_bias=False)),\n",
    "                  ('linear', LinearRegression(fit_intercept=True))])\n",
    "\n",
    "model = model.fit(X_train, y_train)\n",
    "# compute the performance of the model on the test set\n",
    "y_predict = model.predict(X_test)\n",
    "test_score = r2_score(y_test, y_predict)\n",
    "\n",
    "print(\"Test score:\", test_score)"
   ]
  },
  {
   "cell_type": "markdown",
   "id": "9a605917",
   "metadata": {},
   "source": [
    "From this analysis we can see that the degree of the best model is 1, meaning that the linear regression model is better than every possible polynomial model with degree higher than 1 (even if the linear regression model with degree 1 is anyway not good since the r2 score is very low)"
   ]
  },
  {
   "cell_type": "code",
   "execution_count": 35,
   "id": "e6df7888",
   "metadata": {},
   "outputs": [
    {
     "data": {
      "text/plain": [
       "<matplotlib.legend.Legend at 0x7fc7f84d61c0>"
      ]
     },
     "execution_count": 35,
     "metadata": {},
     "output_type": "execute_result"
    },
    {
     "data": {
      "image/png": "[encoded data removed]",
      "text/plain": [
       "<Figure size 720x360 with 1 Axes>"
      ]
     },
     "metadata": {
      "needs_background": "light"
     },
     "output_type": "display_data"
    }
   ],
   "source": [
    "_ = plt.plot(degree,val_scores, label=\"val score\", color=\"blue\")\n",
    "_ = plt.plot(degree, train_scores, label=\"train score\", color=\"g\")\n",
    "_ = plt.plot(degree, test_scores, label=\"test score\", color=\"orange\")\n",
    "_ = plt.plot([best_degree], [best_val_score], marker=\"x\")\n",
    "plt.legend()"
   ]
  },
  {
   "cell_type": "markdown",
   "id": "8c9bd9a8",
   "metadata": {},
   "source": [
    "## Cross validation: k-fold cross-validation"
   ]
  },
  {
   "cell_type": "markdown",
   "id": "85e5dba8",
   "metadata": {},
   "source": [
    "Cross Validation is performed in this way: first all data are divided in training data and test data.\n",
    "Then the train set is splitted k times in k parts: each time k-1 parts are used as train set to fit a model while the remaining one as validation set. The validation set is used as a test set to compute a performance measure of the model fitted on the train set.\n",
    "The overall validation score is the average score on all the validation sets.\n",
    "\n",
    "Cross Validation is used to compare models with different complexity and then select the model for which the resulting estimated test error is the smallest. \n",
    "This procedure has the advantage to provide a direct estimate of the test error needing fewer assumptions about the true underlying model.\n",
    "\n",
    "The GridSearchCV class performs cross validation while also searching among a set of different hyperparameters."
   ]
  },
  {
   "cell_type": "code",
   "execution_count": 36,
   "id": "801608df",
   "metadata": {},
   "outputs": [
    {
     "data": {
      "text/plain": [
       "GridSearchCV(cv=5,\n",
       "             estimator=Pipeline(steps=[('poly',\n",
       "                                        PolynomialFeatures(degree=1,\n",
       "                                                           include_bias=False)),\n",
       "                                       ('linear', LinearRegression())]),\n",
       "             param_grid={'poly__degree': [1, 2, 3, 4]},\n",
       "             scoring=make_scorer(r2_score))"
      ]
     },
     "execution_count": 36,
     "metadata": {},
     "output_type": "execute_result"
    }
   ],
   "source": [
    "from sklearn.model_selection import cross_val_score\n",
    "from sklearn.metrics import make_scorer\n",
    "from sklearn.model_selection import GridSearchCV\n",
    "\n",
    "# compute the Poly object that is made of the polynomial features of the original features    \n",
    "model = Pipeline([('poly', PolynomialFeatures(degree=1, include_bias=False)),\n",
    "                  ('linear', LinearRegression(fit_intercept=True))])\n",
    "\n",
    "r2_scorer = make_scorer(r2_score,\n",
    "                        greater_is_better=True)\n",
    "\n",
    "# Select parameters to optimize\n",
    "parameters = {'poly__degree': list(range(1,5))}\n",
    "\n",
    "# GridSearchCV function computes the cross validation on the model, that can be either linear or \n",
    "# polynomial, using as scoring function the one that computes the r2, cv is the number of k-fold\n",
    "# the function must perform, while parameters are those that the function has to try in training the \n",
    "# model\n",
    "cv = GridSearchCV(model, parameters, scoring=r2_scorer, cv=5, refit=True)\n",
    "cv.fit(X_train, y_train)"
   ]
  },
  {
   "cell_type": "code",
   "execution_count": 37,
   "id": "6815e6d1",
   "metadata": {},
   "outputs": [
    {
     "data": {
      "text/html": [
       "<div>\n",
       "<style scoped>\n",
       "    .dataframe tbody tr th:only-of-type {\n",
       "        vertical-align: middle;\n",
       "    }\n",
       "\n",
       "    .dataframe tbody tr th {\n",
       "        vertical-align: top;\n",
       "    }\n",
       "\n",
       "    .dataframe thead th {\n",
       "        text-align: right;\n",
       "    }\n",
       "</style>\n",
       "<table border=\"1\" class=\"dataframe\">\n",
       "  <thead>\n",
       "    <tr style=\"text-align: right;\">\n",
       "      <th></th>\n",
       "      <th>mean_fit_time</th>\n",
       "      <th>std_fit_time</th>\n",
       "      <th>mean_score_time</th>\n",
       "      <th>std_score_time</th>\n",
       "      <th>param_poly__degree</th>\n",
       "      <th>params</th>\n",
       "      <th>split0_test_score</th>\n",
       "      <th>split1_test_score</th>\n",
       "      <th>split2_test_score</th>\n",
       "      <th>split3_test_score</th>\n",
       "      <th>split4_test_score</th>\n",
       "      <th>mean_test_score</th>\n",
       "      <th>std_test_score</th>\n",
       "      <th>rank_test_score</th>\n",
       "    </tr>\n",
       "  </thead>\n",
       "  <tbody>\n",
       "    <tr>\n",
       "      <th>0</th>\n",
       "      <td>0.001183</td>\n",
       "      <td>0.000501</td>\n",
       "      <td>0.000274</td>\n",
       "      <td>0.000061</td>\n",
       "      <td>1</td>\n",
       "      <td>{'poly__degree': 1}</td>\n",
       "      <td>-0.064189</td>\n",
       "      <td>-0.107366</td>\n",
       "      <td>-0.027227</td>\n",
       "      <td>-0.307115</td>\n",
       "      <td>-0.037100</td>\n",
       "      <td>-0.108600</td>\n",
       "      <td>0.103069</td>\n",
       "      <td>1</td>\n",
       "    </tr>\n",
       "    <tr>\n",
       "      <th>1</th>\n",
       "      <td>0.002199</td>\n",
       "      <td>0.000503</td>\n",
       "      <td>0.000378</td>\n",
       "      <td>0.000073</td>\n",
       "      <td>2</td>\n",
       "      <td>{'poly__degree': 2}</td>\n",
       "      <td>-1.190160</td>\n",
       "      <td>-1.415218</td>\n",
       "      <td>-3.600056</td>\n",
       "      <td>-2.144032</td>\n",
       "      <td>-0.660054</td>\n",
       "      <td>-1.801904</td>\n",
       "      <td>1.017643</td>\n",
       "      <td>2</td>\n",
       "    </tr>\n",
       "    <tr>\n",
       "      <th>2</th>\n",
       "      <td>0.016389</td>\n",
       "      <td>0.001408</td>\n",
       "      <td>0.000562</td>\n",
       "      <td>0.000020</td>\n",
       "      <td>3</td>\n",
       "      <td>{'poly__degree': 3}</td>\n",
       "      <td>-11455.500265</td>\n",
       "      <td>-1121.121139</td>\n",
       "      <td>-1508.884379</td>\n",
       "      <td>-3010.144294</td>\n",
       "      <td>-981.803551</td>\n",
       "      <td>-3615.490725</td>\n",
       "      <td>3985.678661</td>\n",
       "      <td>4</td>\n",
       "    </tr>\n",
       "    <tr>\n",
       "      <th>3</th>\n",
       "      <td>0.029673</td>\n",
       "      <td>0.005560</td>\n",
       "      <td>0.000910</td>\n",
       "      <td>0.000280</td>\n",
       "      <td>4</td>\n",
       "      <td>{'poly__degree': 4}</td>\n",
       "      <td>-178.819943</td>\n",
       "      <td>-421.378213</td>\n",
       "      <td>-1381.567090</td>\n",
       "      <td>-373.505497</td>\n",
       "      <td>-726.263204</td>\n",
       "      <td>-616.306789</td>\n",
       "      <td>420.965105</td>\n",
       "      <td>3</td>\n",
       "    </tr>\n",
       "  </tbody>\n",
       "</table>\n",
       "</div>"
      ],
      "text/plain": [
       "   mean_fit_time  std_fit_time  mean_score_time  std_score_time  \\\n",
       "0       0.001183      0.000501         0.000274        0.000061   \n",
       "1       0.002199      0.000503         0.000378        0.000073   \n",
       "2       0.016389      0.001408         0.000562        0.000020   \n",
       "3       0.029673      0.005560         0.000910        0.000280   \n",
       "\n",
       "  param_poly__degree               params  split0_test_score  \\\n",
       "0                  1  {'poly__degree': 1}          -0.064189   \n",
       "1                  2  {'poly__degree': 2}          -1.190160   \n",
       "2                  3  {'poly__degree': 3}      -11455.500265   \n",
       "3                  4  {'poly__degree': 4}        -178.819943   \n",
       "\n",
       "   split1_test_score  split2_test_score  split3_test_score  split4_test_score  \\\n",
       "0          -0.107366          -0.027227          -0.307115          -0.037100   \n",
       "1          -1.415218          -3.600056          -2.144032          -0.660054   \n",
       "2       -1121.121139       -1508.884379       -3010.144294        -981.803551   \n",
       "3        -421.378213       -1381.567090        -373.505497        -726.263204   \n",
       "\n",
       "   mean_test_score  std_test_score  rank_test_score  \n",
       "0        -0.108600        0.103069                1  \n",
       "1        -1.801904        1.017643                2  \n",
       "2     -3615.490725     3985.678661                4  \n",
       "3      -616.306789      420.965105                3  "
      ]
     },
     "execution_count": 37,
     "metadata": {},
     "output_type": "execute_result"
    }
   ],
   "source": [
    "pd.DataFrame(cv.cv_results_)"
   ]
  },
  {
   "cell_type": "code",
   "execution_count": 38,
   "id": "213a81af",
   "metadata": {},
   "outputs": [
    {
     "data": {
      "text/plain": [
       "Pipeline(steps=[('poly', PolynomialFeatures(degree=1, include_bias=False)),\n",
       "                ('linear', LinearRegression())])"
      ]
     },
     "execution_count": 38,
     "metadata": {},
     "output_type": "execute_result"
    },
    {
     "data": {
      "text/plain": [
       "{'poly__degree': 1}"
      ]
     },
     "execution_count": 38,
     "metadata": {},
     "output_type": "execute_result"
    },
    {
     "data": {
      "text/plain": [
       "-0.10859950081537799"
      ]
     },
     "execution_count": 38,
     "metadata": {},
     "output_type": "execute_result"
    }
   ],
   "source": [
    "# Retrieve the best **trained** estimator\n",
    "cv.best_estimator_\n",
    "# Retrieve its parameters\n",
    "cv.best_params_\n",
    "# Retrieve the best **CV** score\n",
    "# I.e., mean of the scores on each fold\n",
    "cv.best_score_"
   ]
  },
  {
   "cell_type": "code",
   "execution_count": 39,
   "id": "a8ed8c50",
   "metadata": {},
   "outputs": [
    {
     "name": "stdout",
     "output_type": "stream",
     "text": [
      "Best degree: 1\n",
      "Train score: -0.10859950081537799\n",
      "Test score: 0.009942320601879162\n"
     ]
    }
   ],
   "source": [
    "model = cv.best_estimator_\n",
    "y_predict = model.predict(X_test)\n",
    "test_score = r2_score(y_test, y_predict)\n",
    "\n",
    "print(\"Best degree:\", cv.best_params_['poly__degree'])\n",
    "print(\"Train score:\", cv.best_score_)\n",
    "print(\"Test score:\", test_score)"
   ]
  },
  {
   "cell_type": "markdown",
   "id": "d23c120a",
   "metadata": {},
   "source": [
    "With GridSearch I obtained the same result as before: the best model is the one with degree 1 even if the r2 score on the test set is very low."
   ]
  },
  {
   "cell_type": "markdown",
   "id": "9e769bfd",
   "metadata": {},
   "source": [
    "# Feature selection"
   ]
  },
  {
   "cell_type": "markdown",
   "id": "0b401278",
   "metadata": {},
   "source": [
    "Exhaustive exploration (F-test) can be used to tell if a variable is useful or not to predict the output: the problem of F-test is that you have to test all the possible combinations to find the subset of variables useful to build a model.\n",
    "In case you have p variables the number of models you have to test is 2^p and so the procedure becomes too much complex.\n",
    "\n",
    "There are different other techniques to do feature selection: some are better to improve prediction accuracy other to improve the model interpretability.\n",
    "\n",
    "Best subset selection requires to test all the possible combinations of p features: since in this case we have p=12 variables, the complexity of this procedure, 2^12, doesn't allow to perform it. "
   ]
  },
  {
   "cell_type": "markdown",
   "id": "4338a262",
   "metadata": {},
   "source": [
    "## Forward stepwise feature selection"
   ]
  },
  {
   "cell_type": "markdown",
   "id": "8b123f6a",
   "metadata": {},
   "source": [
    "Forward stepwise feature selection first of all builds all the models with one feature: between them it chooses the one with the best R2 score.\n",
    "Starting from this one-feature model, the algorithm adds another feature: from the set of models with two features (where the first one is fixed) it chooses the best model as the one with the highest r2 score.\n",
    "The function procedes in this way producing a list of models that are the best ones with 1 till p features.\n",
    "To choose the best model between those with a different number of predictors, and so different complexity, the BIC score of the model on the train set must be used."
   ]
  },
  {
   "cell_type": "code",
   "execution_count": 40,
   "id": "06289862",
   "metadata": {},
   "outputs": [],
   "source": [
    "from sklearn.model_selection import cross_val_score\n",
    "from sklearn.dummy import DummyRegressor\n",
    "from sklearn.metrics import make_scorer\n",
    "\n",
    "# definition of serie of functions needed to perform forward feature selection\n",
    "\n",
    "# the evaluator function is required to train a model and evaluate it against \n",
    "# a specific training set\n",
    "def get_evaluator(scorer):\n",
    "    def evaluator(model, X, y, trained=False):\n",
    "        if not trained:\n",
    "            model = model.fit(X, y)\n",
    "            # if the model is not trained it trains your data\n",
    "        score = scorer(model, X, y)\n",
    "        return model, score\n",
    "    return evaluator   \n",
    "\n",
    "def get_sigma_scorer(metric, sigma):\n",
    "    def scorer(model, X, y):\n",
    "        n, d = X.shape\n",
    "        y_pred = model.predict(X)\n",
    "        return metric(y_pred, y, n, d, sigma)\n",
    "    \n",
    "    return scorer\n",
    "\n",
    "def bic(y_pred, y_true, n, d, sigma):\n",
    "    sigma2 = sigma**2\n",
    "    return (rss(y_pred, y_true) + np.log(n)*d*sigma2) / (n*sigma2)\n",
    "\n",
    "def rss(y_true, y_pred):\n",
    "    y_true = y_true.reshape(y_pred.shape)\n",
    "    return np.sum((y_true - y_pred) ** 2)\n",
    "\n",
    "def estimate_sigma(Xtrain, ytrain):\n",
    "    # Sigma is usually estimated using the model with all features\n",
    "    n, p = Xtrain.shape\n",
    "    model = LinearRegression(fit_intercept=True)\n",
    "    model.fit(Xtrain, ytrain)\n",
    "    y_pred = model.predict(Xtrain)\n",
    "    RSS = rss(y_pred, ytrain)\n",
    "    RSE = np.sqrt(RSS / (n-p))\n",
    "    return RSE\n",
    "\n",
    "def forward_selection(Xtrain, ytrain, Xtest, ytest,\n",
    "                      candidates_evaluator, candidates_argbest, \n",
    "                      subsets_evaluator, subsets_argbest,       \n",
    "                      test_evaluator=None, test_argbest=None,\n",
    "                      candidates_scorer_name=None,  \n",
    "                      subsets_scorer_name=None,     \n",
    "                      verbose=True, weight_step3=0):   \n",
    "    test_evaluator = subsets_evaluator if not test_evaluator else test_evaluator\n",
    "    test_argbest = subsets_argbest if not test_argbest else test_argbest\n",
    "    \n",
    "    # Global variable init\n",
    "    # ====================\n",
    "    num_features = Xtrain.shape[-1]\n",
    "    best_candidate_metric = []\n",
    "    # subsets_* are lists containing the value of the best Mk model \n",
    "    subsets_test = []\n",
    "    subsets_metric = []        # The best metric of each subset of dimension 'dim'\n",
    "    subsets_best_features = [] # The best features combination in each subset of dimension 'dim'\n",
    "    # A figure to keep track of candidates scores in each Mk subset\n",
    "    plt.figure()\n",
    "    candidate_fig = plt.subplot(111) # A global matplotlib figure\n",
    "    num_evaluations = 0        # A conter to keep track of the total number of trials\n",
    "    \n",
    "    selected_features = []  \n",
    "    # list in which the selected features will be stored \n",
    "    all_features = Xtrain.columns\n",
    "    \n",
    "    # 1. Train M0\n",
    "    # ===========\n",
    "    model = DummyRegressor() # model M0 that assigns the mean of the target variable to each prediction\n",
    "    \n",
    "    model, score = candidates_evaluator(model, Xtrain[[]], ytrain)\n",
    "    best_candidate_metric.append(score)\n",
    "    subsets_best_features.append([])\n",
    "    _ = candidate_fig.scatter([0], [score], color=\"b\")\n",
    "    \n",
    "    _, score = subsets_evaluator(model, Xtrain[[]], ytrain, trained=True)\n",
    "    subsets_metric.append(score)\n",
    "    _, score = test_evaluator(model, Xtrain[[]], ytrain, trained=True)\n",
    "    subsets_test.append(score)\n",
    "        \n",
    "   \n",
    "    # 2. Evaluate all Mk candidates with\n",
    "    #    k=0...P features\n",
    "    for dim in range(num_features):\n",
    "        candidate_metrics = [] # Keep track of candidates metrics\n",
    "        candidate_models = []  # Keep track of candidates trained models\n",
    "        \n",
    "        # 2.a Given the previous Mk model, test remaining\n",
    "        # features and select the one providing the best\n",
    "        # performance increment\n",
    "        # ===============================================\n",
    "        remaining_features = Xtrain.columns.difference(selected_features)\n",
    "        \n",
    "        for new_column in remaining_features:\n",
    "            Xtrain_sub = Xtrain[selected_features+[new_column]].to_numpy()\n",
    "            model = LinearRegression(fit_intercept=True)\n",
    "            model, score = candidates_evaluator(model, Xtrain_sub, ytrain)\n",
    "            candidate_models.append(model)\n",
    "            candidate_metrics.append(score)\n",
    "            num_evaluations += 1\n",
    "            \n",
    "        _ = candidate_fig.scatter([Xtrain_sub.shape[-1]]*len(candidate_metrics), candidate_metrics,\n",
    "                                  color=\"b\")\n",
    "            \n",
    "        # 2.b Select the best candidate in (2.a)\n",
    "        # ===============================================\n",
    "        idx_best_candidate = candidates_argbest(candidate_metrics)\n",
    "        selected_features.append(remaining_features[idx_best_candidate])\n",
    "        # Save best candidate features\n",
    "        best_candidate_metric.append(candidate_metrics[idx_best_candidate])\n",
    "        best_features = selected_features.copy()\n",
    "        subsets_best_features.append(best_features)\n",
    "        \n",
    "        # Compute metric \n",
    "        best_subset_model = candidate_models[idx_best_candidate]\n",
    "        best_subset_Xtrain = Xtrain[best_features].to_numpy()\n",
    "        _, score = subsets_evaluator(best_subset_model, best_subset_Xtrain, ytrain, trained=True)\n",
    "        subsets_metric.append(score)\n",
    "        best_subset_Xtest = Xtest[best_features].to_numpy()\n",
    "        _, score = test_evaluator(best_subset_model, best_subset_Xtest, ytest, trained=True)\n",
    "        subsets_test.append(score)\n",
    "        num_evaluations += weight_step3 \n",
    "        \n",
    "        if verbose:\n",
    "            print(\"............\")\n",
    "            print(\"Best model (M{}) with {} features: {}\".format(dim, dim, best_features))\n",
    "            print(\"M{} subset score (3.): {}\".format(dim, score))\n",
    "        \n",
    "    # 3. Among all best candidates with increasing number\n",
    "    #    of features, select the best one\n",
    "    # ===================================================\n",
    "    best_subset_idx = subsets_argbest(subsets_metric)\n",
    "    best_features = subsets_best_features[best_subset_idx]\n",
    "    \n",
    "    if verbose:\n",
    "        print(\"\\n\\nBest configuration has {} features\".format(best_subset_idx))\n",
    "        print(\"Features: {}\".format(subsets_best_features[best_subset_idx]))\n",
    "        print(\"Total number of trained models:\", num_evaluations)\n",
    "    \n",
    "    # Complete the subsets_fig figure by plotting\n",
    "    # a line connecting all best candidate score\n",
    "    best_candidate_score_idx = candidates_argbest(best_candidate_metric)\n",
    "    _ = candidate_fig.plot(range(len(best_candidate_metric)), best_candidate_metric)\n",
    "    _ = candidate_fig.scatter(best_candidate_score_idx, best_candidate_metric[best_candidate_score_idx],\n",
    "                              marker='X', label=\"Best\", color=\"r\")\n",
    "    candidate_fig.set_title(candidates_scorer_name)\n",
    "    candidate_fig.legend()\n",
    "    \n",
    "    # Plot a figure to show how te 3. metric evolves\n",
    "    plt.figure()\n",
    "    subsets_fig = plt.subplot(111)\n",
    "    _ = subsets_fig.plot(range(len(subsets_metric)), subsets_metric, label=\"Selection (3.) scores\")\n",
    "    _ = subsets_fig.scatter(best_subset_idx, subsets_metric[best_subset_idx],\n",
    "                              marker='X', label=\"Best (3.) score\", color=\"r\")\n",
    "    best_test_score_idx = test_argbest(subsets_test)\n",
    "    _ = subsets_fig.plot(range(len(subsets_test)), subsets_test, label=\"Test scores\")\n",
    "    _ = subsets_fig.scatter(best_test_score_idx, subsets_test[best_test_score_idx],\n",
    "                              marker='X', label=\"Best test score\", color=\"y\")\n",
    "    subsets_fig.set_title(subsets_scorer_name)\n",
    "    subsets_fig.legend()\n",
    "    "
   ]
  },
  {
   "cell_type": "code",
   "execution_count": 41,
   "id": "eb867d89",
   "metadata": {
    "scrolled": false
   },
   "outputs": [
    {
     "name": "stdout",
     "output_type": "stream",
     "text": [
      "............\n",
      "Best model (M0) with 0 features: ['wind']\n",
      "M0 subset score (3.): 2.060657386004516\n",
      "............\n",
      "Best model (M1) with 1 features: ['wind', 'month']\n",
      "M1 subset score (3.): 2.007685079077795\n",
      "............\n",
      "Best model (M2) with 2 features: ['wind', 'month', 'X']\n",
      "M2 subset score (3.): 2.004914668599307\n",
      "............\n",
      "Best model (M3) with 3 features: ['wind', 'month', 'X', 'ISI']\n",
      "M3 subset score (3.): 2.0052638495360764\n",
      "............\n",
      "Best model (M4) with 4 features: ['wind', 'month', 'X', 'ISI', 'FFMC']\n",
      "M4 subset score (3.): 2.002178471398675\n",
      "............\n",
      "Best model (M5) with 5 features: ['wind', 'month', 'X', 'ISI', 'FFMC', 'day']\n",
      "M5 subset score (3.): 2.015121953052077\n",
      "............\n",
      "Best model (M6) with 6 features: ['wind', 'month', 'X', 'ISI', 'FFMC', 'day', 'DC']\n",
      "M6 subset score (3.): 2.010598488982886\n",
      "............\n",
      "Best model (M7) with 7 features: ['wind', 'month', 'X', 'ISI', 'FFMC', 'day', 'DC', 'rain']\n",
      "M7 subset score (3.): 2.014172155474068\n",
      "............\n",
      "Best model (M8) with 8 features: ['wind', 'month', 'X', 'ISI', 'FFMC', 'day', 'DC', 'rain', 'Y']\n",
      "M8 subset score (3.): 2.0191244121731007\n",
      "............\n",
      "Best model (M9) with 9 features: ['wind', 'month', 'X', 'ISI', 'FFMC', 'day', 'DC', 'rain', 'Y', 'DMC']\n",
      "M9 subset score (3.): 2.0217582103462926\n",
      "............\n",
      "Best model (M10) with 10 features: ['wind', 'month', 'X', 'ISI', 'FFMC', 'day', 'DC', 'rain', 'Y', 'DMC', 'temp']\n",
      "M10 subset score (3.): 2.0200537734413335\n",
      "............\n",
      "Best model (M11) with 11 features: ['wind', 'month', 'X', 'ISI', 'FFMC', 'day', 'DC', 'rain', 'Y', 'DMC', 'temp', 'RH']\n",
      "M11 subset score (3.): 2.0208956896937043\n",
      "\n",
      "\n",
      "Best configuration has 0 features\n",
      "Features: []\n",
      "Total number of trained models: 78\n"
     ]
    },
    {
     "data": {
      "image/png": "[encoded data removed]",
      "text/plain": [
       "<Figure size 720x360 with 1 Axes>"
      ]
     },
     "metadata": {
      "needs_background": "light"
     },
     "output_type": "display_data"
    },
    {
     "data": {
      "image/png": "[encoded data removed]",
      "text/plain": [
       "<Figure size 720x360 with 1 Axes>"
      ]
     },
     "metadata": {
      "needs_background": "light"
     },
     "output_type": "display_data"
    }
   ],
   "source": [
    "X = fire[X_features]\n",
    "y = fire['log_area']\n",
    "\n",
    "fire_test_size = 0.3\n",
    "fire_test_seed = 40\n",
    "X_train, X_test, y_train, y_test = train_test_split(X, y, test_size=fire_test_size, random_state=fire_test_seed)\n",
    "\n",
    "sigma = estimate_sigma(X_train, y_train)\n",
    "\n",
    "forward_selection(X_train, y_train, X_test, y_test,\n",
    "                  get_evaluator(make_scorer(r2_score)), np.argmax,\n",
    "                  # estimate the test R^2 error to choose the best model among the ones with the same \n",
    "                  # complexity\n",
    "                  get_evaluator(get_sigma_scorer(bic, sigma)), np.argmin, \n",
    "                  # estimate the test BIC error to choose the best model among the ones with different\n",
    "                  # complexity\n",
    "                  get_evaluator(make_scorer(mean_squared_error)), np.argmin, \n",
    "                  # estimate the test MSE to choose the best model among the ones with the same \n",
    "                  # complexity\n",
    "                  candidates_scorer_name=\"R^2\",\n",
    "                  subsets_scorer_name=\"BIC\",\n",
    "                  verbose=True)\n"
   ]
  },
  {
   "cell_type": "markdown",
   "id": "4c808868",
   "metadata": {},
   "source": [
    "The best model according to forward feature selection is the one without any feature, so the dummy regressor - that assigns the mean of the target variable to each prediction without taking in consideration the input data -  is better than all the possible linear regression models fitted on the train set with different number of features. \n",
    "In fact in the last plot is visible that the number of features for which the BIC score is the minimum is 0."
   ]
  },
  {
   "cell_type": "markdown",
   "id": "c7dd920e",
   "metadata": {},
   "source": [
    "## Forward Feature selection with Cross-validation"
   ]
  },
  {
   "cell_type": "markdown",
   "id": "01760d6c",
   "metadata": {},
   "source": [
    "In this case Forward feature selection is applied by adding one variable at the time keeping all the previously selected ones fixed (choosing which variable to add comparing the r2 score of models with the same number of predictors). In addition, once the best model between all the models with a certain number of features has been found, Cross Validation is applied and returns the average validation score of the k scores computed on each validation set.\n",
    "By the end, comparing the cross validation score of models with different number of features, the model with the number of features for which the Cross Validation score is the best one is returned as the best model."
   ]
  },
  {
   "cell_type": "code",
   "execution_count": 42,
   "id": "47efa5b9",
   "metadata": {},
   "outputs": [
    {
     "name": "stdout",
     "output_type": "stream",
     "text": [
      "............\n",
      "Best model (M0) with 0 features: ['X']\n",
      "M0 subset score (3.): -0.02821022689977215\n",
      "............\n",
      "Best model (M1) with 1 features: ['X', 'month']\n",
      "M1 subset score (3.): -0.009925078004475951\n",
      "............\n",
      "Best model (M2) with 2 features: ['X', 'month', 'wind']\n",
      "M2 subset score (3.): -0.010178600475705846\n",
      "............\n",
      "Best model (M3) with 3 features: ['X', 'month', 'wind', 'day']\n",
      "M3 subset score (3.): -0.025193788874934953\n",
      "............\n",
      "Best model (M4) with 4 features: ['X', 'month', 'wind', 'day', 'FFMC']\n",
      "M4 subset score (3.): -0.023714358569498106\n",
      "............\n",
      "Best model (M5) with 5 features: ['X', 'month', 'wind', 'day', 'FFMC', 'DMC']\n",
      "M5 subset score (3.): -0.035696318110800096\n",
      "............\n",
      "Best model (M6) with 6 features: ['X', 'month', 'wind', 'day', 'FFMC', 'DMC', 'Y']\n",
      "M6 subset score (3.): -0.03764034613832168\n",
      "............\n",
      "Best model (M7) with 7 features: ['X', 'month', 'wind', 'day', 'FFMC', 'DMC', 'Y', 'ISI']\n",
      "M7 subset score (3.): -0.08566508441824183\n",
      "............\n",
      "Best model (M8) with 8 features: ['X', 'month', 'wind', 'day', 'FFMC', 'DMC', 'Y', 'ISI', 'DC']\n",
      "M8 subset score (3.): -0.06630669273694001\n",
      "............\n",
      "Best model (M9) with 9 features: ['X', 'month', 'wind', 'day', 'FFMC', 'DMC', 'Y', 'ISI', 'DC', 'RH']\n",
      "M9 subset score (3.): -0.026076255439343\n",
      "............\n",
      "Best model (M10) with 10 features: ['X', 'month', 'wind', 'day', 'FFMC', 'DMC', 'Y', 'ISI', 'DC', 'RH', 'temp']\n",
      "M10 subset score (3.): -0.03960198157302974\n",
      "............\n",
      "Best model (M11) with 11 features: ['X', 'month', 'wind', 'day', 'FFMC', 'DMC', 'Y', 'ISI', 'DC', 'RH', 'temp', 'rain']\n",
      "M11 subset score (3.): -0.010440242136363853\n",
      "\n",
      "\n",
      "Best configuration has 3 features\n",
      "Features: ['X', 'month', 'wind']\n",
      "Total number of trained models: 198\n"
     ]
    },
    {
     "data": {
      "image/png": "[encoded data removed]",
      "text/plain": [
       "<Figure size 720x360 with 1 Axes>"
      ]
     },
     "metadata": {
      "needs_background": "light"
     },
     "output_type": "display_data"
    },
    {
     "data": {
      "image/png": "[encoded data removed]",
      "text/plain": [
       "<Figure size 720x360 with 1 Axes>"
      ]
     },
     "metadata": {
      "needs_background": "light"
     },
     "output_type": "display_data"
    }
   ],
   "source": [
    "# definition of a recursive evaluator function that is formed by a nested function that\n",
    "# splits the train set in a train and in a validation part, afterwords it fits the model \n",
    "# on the training subpart and computes the score applying the fitted model on the validation set.\n",
    "# By the end the get_val_evaluator function returns the model and the validation score\n",
    "def get_val_evaluator(scorer, val_size=0.3):\n",
    "    def evaluator(model, X, y, trained=False):\n",
    "        X_train_small, X_val, y_train_small, y_val = train_test_split(X, y, \n",
    "                                                          test_size=val_size,\n",
    "                                                          random_state=fire_test_seed)\n",
    "        \n",
    "        if not trained:\n",
    "            model = model.fit(X_train_small, y_train_small)\n",
    "        score = scorer(model, X_val, y_val) \n",
    "        \n",
    "        return model, score\n",
    "    \n",
    "    return evaluator\n",
    "\n",
    "# using a cross evaluator we train the model each time we choose k-1 parts of the training data\n",
    "# as training set and the remaining one as validation set \n",
    "def get_cv_evaluator(scorer, cv=3):\n",
    "    def evaluator(model, X, y, trained=False):            \n",
    "        scores = cross_val_score(model, X, y, scoring=scorer, cv=cv)\n",
    "        if not trained:\n",
    "            model = model.fit(X, y)\n",
    "        return model, np.mean(scores)\n",
    "    \n",
    "    return evaluator\n",
    "\n",
    "\n",
    "sigma = estimate_sigma(X_train, y_train)\n",
    "forward_selection(X_train, y_train, X_test, y_test,\n",
    "                  get_val_evaluator(make_scorer(r2_score)), np.argmax, \n",
    "                  get_cv_evaluator(make_scorer(r2_score),cv =10), np.argmax,\n",
    "                  get_val_evaluator(make_scorer(r2_score)), np.argmax,\n",
    "                  candidates_scorer_name=\"cv(R^2)\",\n",
    "                  subsets_scorer_name=\"cv(R^2)\",\n",
    "                  verbose=True, weight_step3=10)\n"
   ]
  },
  {
   "cell_type": "markdown",
   "id": "f1be4d86",
   "metadata": {},
   "source": [
    "From the Forward Feature Selection procedure with Cross Validation the best model is the one with 3 features, ['X', 'month', 'wind'].\n",
    "Its r2 score is 0 meaning that actually this model is not able to model the data in a good way.\n",
    "\n",
    "I performed linear regression using the just selected set of features."
   ]
  },
  {
   "cell_type": "code",
   "execution_count": 43,
   "id": "ed15e2b9",
   "metadata": {},
   "outputs": [
    {
     "name": "stdout",
     "output_type": "stream",
     "text": [
      "Train R2 score  0.02651175027026531\n",
      "Train MSE score  1.8751142373253888\n",
      "Test R2 score  0.01777158796081324\n",
      "Test MSE score  2.004914668599307\n"
     ]
    }
   ],
   "source": [
    "X_selected = ['X', 'month', 'wind']\n",
    "X_small = fire[X_selected].to_numpy()\n",
    "fire_test_seed_v2=40\n",
    "X_train_small, X_test_small, y_train_small, y_test_small = train_test_split(X_small, y,\n",
    "                                                                test_size=fire_test_size, \n",
    "                                                                random_state=fire_test_seed_v2)\n",
    "\n",
    "model = LinearRegression()                       \n",
    "model = model.fit(X_train_small, y_train_small)        \n",
    "y_predict_test = model.predict(X_test_small)     \n",
    "y_predict_train = model.predict(X_train_small)\n",
    "\n",
    "\n",
    "print(\"Train R2 score \", r2_score(y_train_small, y_predict_train))\n",
    "print(\"Train MSE score \", mean_squared_error(y_train_small, y_predict_train))\n",
    "\n",
    "print(\"Test R2 score \", r2_score(y_test_small, y_predict_test))\n",
    "print(\"Test MSE score \", mean_squared_error(y_test_small, y_predict_test))"
   ]
  },
  {
   "cell_type": "markdown",
   "id": "d4bb7e33",
   "metadata": {},
   "source": [
    "The linear model with only the three features selected by Forward Feature Selection with Cross validation has a better performance on the test set with respect to the linear model fitted using all the features (r2 score of 3.7% on the train set and of 1% on the test set): here the r2 score on the train set is 2.7% but on the test set is 1.8%."
   ]
  },
  {
   "cell_type": "code",
   "execution_count": 44,
   "id": "688282e2",
   "metadata": {},
   "outputs": [
    {
     "data": {
      "text/plain": [
       "GridSearchCV(cv=5,\n",
       "             estimator=Pipeline(steps=[('poly',\n",
       "                                        PolynomialFeatures(degree=1,\n",
       "                                                           include_bias=False)),\n",
       "                                       ('linear', LinearRegression())]),\n",
       "             param_grid={'poly__degree': [1, 2, 3, 4]},\n",
       "             scoring=make_scorer(r2_score))"
      ]
     },
     "execution_count": 44,
     "metadata": {},
     "output_type": "execute_result"
    },
    {
     "data": {
      "text/html": [
       "<div>\n",
       "<style scoped>\n",
       "    .dataframe tbody tr th:only-of-type {\n",
       "        vertical-align: middle;\n",
       "    }\n",
       "\n",
       "    .dataframe tbody tr th {\n",
       "        vertical-align: top;\n",
       "    }\n",
       "\n",
       "    .dataframe thead th {\n",
       "        text-align: right;\n",
       "    }\n",
       "</style>\n",
       "<table border=\"1\" class=\"dataframe\">\n",
       "  <thead>\n",
       "    <tr style=\"text-align: right;\">\n",
       "      <th></th>\n",
       "      <th>mean_fit_time</th>\n",
       "      <th>std_fit_time</th>\n",
       "      <th>mean_score_time</th>\n",
       "      <th>std_score_time</th>\n",
       "      <th>param_poly__degree</th>\n",
       "      <th>params</th>\n",
       "      <th>split0_test_score</th>\n",
       "      <th>split1_test_score</th>\n",
       "      <th>split2_test_score</th>\n",
       "      <th>split3_test_score</th>\n",
       "      <th>split4_test_score</th>\n",
       "      <th>mean_test_score</th>\n",
       "      <th>std_test_score</th>\n",
       "      <th>rank_test_score</th>\n",
       "    </tr>\n",
       "  </thead>\n",
       "  <tbody>\n",
       "    <tr>\n",
       "      <th>0</th>\n",
       "      <td>0.001144</td>\n",
       "      <td>0.000157</td>\n",
       "      <td>0.000304</td>\n",
       "      <td>0.000026</td>\n",
       "      <td>1</td>\n",
       "      <td>{'poly__degree': 1}</td>\n",
       "      <td>-0.006644</td>\n",
       "      <td>-0.016413</td>\n",
       "      <td>-0.012331</td>\n",
       "      <td>0.069547</td>\n",
       "      <td>-0.005263</td>\n",
       "      <td>0.005779</td>\n",
       "      <td>0.032134</td>\n",
       "      <td>1</td>\n",
       "    </tr>\n",
       "    <tr>\n",
       "      <th>1</th>\n",
       "      <td>0.001057</td>\n",
       "      <td>0.000544</td>\n",
       "      <td>0.000302</td>\n",
       "      <td>0.000080</td>\n",
       "      <td>2</td>\n",
       "      <td>{'poly__degree': 2}</td>\n",
       "      <td>-0.003669</td>\n",
       "      <td>-0.145713</td>\n",
       "      <td>-0.024245</td>\n",
       "      <td>0.072341</td>\n",
       "      <td>0.027145</td>\n",
       "      <td>-0.014828</td>\n",
       "      <td>0.073081</td>\n",
       "      <td>2</td>\n",
       "    </tr>\n",
       "    <tr>\n",
       "      <th>2</th>\n",
       "      <td>0.000681</td>\n",
       "      <td>0.000128</td>\n",
       "      <td>0.000263</td>\n",
       "      <td>0.000023</td>\n",
       "      <td>3</td>\n",
       "      <td>{'poly__degree': 3}</td>\n",
       "      <td>-0.008460</td>\n",
       "      <td>-0.334838</td>\n",
       "      <td>-0.104750</td>\n",
       "      <td>0.003402</td>\n",
       "      <td>-0.022769</td>\n",
       "      <td>-0.093483</td>\n",
       "      <td>0.126487</td>\n",
       "      <td>3</td>\n",
       "    </tr>\n",
       "    <tr>\n",
       "      <th>3</th>\n",
       "      <td>0.000974</td>\n",
       "      <td>0.000227</td>\n",
       "      <td>0.000314</td>\n",
       "      <td>0.000035</td>\n",
       "      <td>4</td>\n",
       "      <td>{'poly__degree': 4}</td>\n",
       "      <td>-0.017915</td>\n",
       "      <td>-1.617994</td>\n",
       "      <td>-0.484092</td>\n",
       "      <td>-0.167581</td>\n",
       "      <td>-0.099926</td>\n",
       "      <td>-0.477502</td>\n",
       "      <td>0.591709</td>\n",
       "      <td>4</td>\n",
       "    </tr>\n",
       "  </tbody>\n",
       "</table>\n",
       "</div>"
      ],
      "text/plain": [
       "   mean_fit_time  std_fit_time  mean_score_time  std_score_time  \\\n",
       "0       0.001144      0.000157         0.000304        0.000026   \n",
       "1       0.001057      0.000544         0.000302        0.000080   \n",
       "2       0.000681      0.000128         0.000263        0.000023   \n",
       "3       0.000974      0.000227         0.000314        0.000035   \n",
       "\n",
       "  param_poly__degree               params  split0_test_score  \\\n",
       "0                  1  {'poly__degree': 1}          -0.006644   \n",
       "1                  2  {'poly__degree': 2}          -0.003669   \n",
       "2                  3  {'poly__degree': 3}          -0.008460   \n",
       "3                  4  {'poly__degree': 4}          -0.017915   \n",
       "\n",
       "   split1_test_score  split2_test_score  split3_test_score  split4_test_score  \\\n",
       "0          -0.016413          -0.012331           0.069547          -0.005263   \n",
       "1          -0.145713          -0.024245           0.072341           0.027145   \n",
       "2          -0.334838          -0.104750           0.003402          -0.022769   \n",
       "3          -1.617994          -0.484092          -0.167581          -0.099926   \n",
       "\n",
       "   mean_test_score  std_test_score  rank_test_score  \n",
       "0         0.005779        0.032134                1  \n",
       "1        -0.014828        0.073081                2  \n",
       "2        -0.093483        0.126487                3  \n",
       "3        -0.477502        0.591709                4  "
      ]
     },
     "execution_count": 44,
     "metadata": {},
     "output_type": "execute_result"
    },
    {
     "name": "stdout",
     "output_type": "stream",
     "text": [
      "Best degree: 1\n",
      "Train score: 0.005779313184298496\n",
      "Test score: 0.01777158796081324\n"
     ]
    }
   ],
   "source": [
    "from sklearn.model_selection import GridSearchCV\n",
    "\n",
    "# Validation\n",
    "model = Pipeline([('poly', PolynomialFeatures(degree=1, include_bias=False)),\n",
    "                  ('linear', LinearRegression(fit_intercept=True))])\n",
    "\n",
    "# Select parameters to optimize\n",
    "parameters = {'poly__degree': list(range(1,5))}\n",
    "              #'linear__fit_intercept': [True, False],\n",
    "              #'linear__normalize': [True, False]}\n",
    "\n",
    "cv = GridSearchCV(model, parameters, scoring=r2_scorer, cv=5, refit=True)\n",
    "cv.fit(X_train_small, y_train_small)\n",
    "\n",
    "pd.DataFrame(cv.cv_results_)\n",
    "\n",
    "model = cv.best_estimator_\n",
    "y_predict = model.predict(X_test_small)\n",
    "test_score = r2_score(y_test_small, y_predict)\n",
    "\n",
    "print(\"Best degree:\", cv.best_params_['poly__degree'])\n",
    "print(\"Train score:\", cv.best_score_)\n",
    "print(\"Test score:\", test_score)\n"
   ]
  },
  {
   "cell_type": "markdown",
   "id": "c7a2885b",
   "metadata": {},
   "source": [
    "Using GridSearch we can see that the better linear regression model, using only the three selected fetures, is the one with degree 1."
   ]
  },
  {
   "cell_type": "markdown",
   "id": "febc0d65",
   "metadata": {},
   "source": [
    "## Backword feature selection with sklearn built-in function"
   ]
  },
  {
   "cell_type": "markdown",
   "id": "d63e5ada",
   "metadata": {},
   "source": [
    "I used the built-in function offered by sklearn to repeat the feature selection, in this case backward stepwise feature selection.\n",
    "\n",
    "The Sequential Feature Selector method of sklearn chooses the best feature to remove (in case of backward selection)  based on the cross-validation score of an estimator. \n",
    "\n",
    "Backward feature selection starts with the full model with p features, then it tests this full model without a different feature each time and, by comparing the Cross Validation scores of these p models each with p-1 features, it chooses the best one. \n",
    "Once the best model, between all the models with a certain number of features, has been found, its aic score is computed.\n",
    "By the end the model with the number of features for which the aic score is the lowest is returned as the best model."
   ]
  },
  {
   "cell_type": "code",
   "execution_count": 45,
   "id": "bca4a447",
   "metadata": {},
   "outputs": [],
   "source": [
    "from sklearn.feature_selection import SequentialFeatureSelector\n",
    "\n",
    "# aic score can be used to compare models with different complexity\n",
    "def aic(y_pred, y_true, n, d, sigma):\n",
    "    sigma2 = sigma**2\n",
    "    return (rss(y_pred, y_true) + 2*d*sigma2) / (n*sigma2)\n",
    "\n",
    "model = LinearRegression(fit_intercept=True) \n",
    "\n",
    "num_features = X.shape[1]\n",
    "# total numerb of features of X\n",
    "\n",
    "best_features = []\n",
    "best_score = []\n",
    "# lists in which I will add the feature names of the best model with k features (where k goes from 1 to num_features)\n",
    "# and the corresponding score of this model\n",
    "\n",
    "X = fire[X_features]\n",
    "\n",
    "for dim in range(1,num_features):\n",
    "    sigma = estimate_sigma(X_train, y_train)\n",
    "        \n",
    "    # I used Sequential Feature Selector function to create the object forward feature selector that also performs cross validation\n",
    "    sfs = SequentialFeatureSelector(model, n_features_to_select=dim, direction = 'backward', cv = 10)\n",
    "    sfs = sfs.fit(X_train, y_train)\n",
    "    \n",
    "    # extract the name of the features that have been selected as the best dim features\n",
    "    features = sfs.get_feature_names_out(X_features)\n",
    "    \n",
    "    # add the name of the best features to the list\n",
    "    best_features.append(features)\n",
    "           \n",
    "    fire_test_seed = 40\n",
    "\n",
    "    # reduce X to the selected features \n",
    "    X_sfs = X[features]\n",
    "    y_sfs = y\n",
    "    \n",
    "    # split X in train and test set\n",
    "    X_train_sfs, X_test_sfs, y_train_sfs, y_test_sfs = train_test_split(X_sfs, y_sfs, test_size=fire_test_size, random_state=fire_test_seed)\n",
    "    \n",
    "    # train a linear model with the train_sfs set\n",
    "    model = LinearRegression(fit_intercept=True) \n",
    "    model = model.fit(X_train_sfs, y_train_sfs) \n",
    "    \n",
    "    # predict the response on the train set\n",
    "    y_train_pred = model.predict(X_train_sfs)\n",
    "    n,d = X_train_sfs.shape\n",
    "    # compute aic score on the train set\n",
    "    aic_score = aic(y_train_pred,y_train_sfs,n,d,sigma)\n",
    "    \n",
    "    # append to the list the aic score for the best model of dimension dim\n",
    "    best_score.append(aic_score)    "
   ]
  },
  {
   "cell_type": "code",
   "execution_count": 46,
   "id": "125c31e9",
   "metadata": {},
   "outputs": [
    {
     "data": {
      "text/plain": [
       "array(['X', 'month', 'wind'], dtype=object)"
      ]
     },
     "execution_count": 46,
     "metadata": {},
     "output_type": "execute_result"
    }
   ],
   "source": [
    "id_best_score = np.argmin(best_score)\n",
    "best_features[id_best_score]"
   ]
  },
  {
   "cell_type": "code",
   "execution_count": 47,
   "id": "2a48dd98",
   "metadata": {},
   "outputs": [
    {
     "name": "stdout",
     "output_type": "stream",
     "text": [
      "the best model has the following features:['X' 'month' 'wind'], and the corresponding aic score is: 2\n"
     ]
    }
   ],
   "source": [
    "print(f'the best model has the following features:{best_features[id_best_score]}, and the corresponding aic score is: {np.argmin(best_score)}')"
   ]
  },
  {
   "cell_type": "markdown",
   "id": "fc93ff65",
   "metadata": {},
   "source": [
    "Using backword feature selection I obtained that the best model has 3 features, ['X', 'month', 'wind'], with an aic score of 2. The result is the same I obtained previously applying Forward feature selection with cross validation."
   ]
  },
  {
   "cell_type": "markdown",
   "id": "29b640ce",
   "metadata": {},
   "source": [
    "## Shrinkage methods"
   ]
  },
  {
   "cell_type": "markdown",
   "id": "8cd9d2dd",
   "metadata": {},
   "source": [
    "Shrinking the coefficient estimates can significantly reduce their variance. \n",
    "Instead of using the minimum amount of features (to reduce model variance and limit the overfitting) we try to limit the complexity of the model by regularizing the model (limit the variance of the model). Consequently shrinkage model improves in prediction accuracy: it reduces the variance by regularization so that you predict better on data you have never seen."
   ]
  },
  {
   "cell_type": "markdown",
   "id": "0017be3a",
   "metadata": {},
   "source": [
    "## Ridge regression\n",
    "\n",
    "Ridge regression tries to penalize the estimate of parameters by adding to the RSS a l2 norm penalization term.\n",
    "When λ = 0, the penalty term has no effect and ridge regression will produce the least squares estimates (if λ is too small the model will overfit). However, as λ → ∞, the impact of the shrinkage penalty grows and the ridge regression coefficient estimates will approach zero (if λ is too big it will shrink the parameters down and so the model will underfit).\n",
    "The best λ parameter is chosen through cross validation."
   ]
  },
  {
   "cell_type": "code",
   "execution_count": 48,
   "id": "3af964b4",
   "metadata": {},
   "outputs": [
    {
     "data": {
      "text/plain": [
       "RidgeCV(alphas=array([1.e-03, 1.e-02, 1.e+00, 1.e+01]))"
      ]
     },
     "execution_count": 48,
     "metadata": {},
     "output_type": "execute_result"
    },
    {
     "name": "stdout",
     "output_type": "stream",
     "text": [
      "R squared training set 0.04\n",
      "R squared test set 0.01\n"
     ]
    },
    {
     "data": {
      "text/plain": [
       "2.020742575155253"
      ]
     },
     "execution_count": 48,
     "metadata": {},
     "output_type": "execute_result"
    }
   ],
   "source": [
    "from sklearn.linear_model import RidgeCV\n",
    "ridge = RidgeCV(alphas=[0.001,0.01,1,10])\n",
    "ridge.fit(X_train,y_train)\n",
    "\n",
    "print('R squared training set', round(ridge.score(X_train, y_train), 2))\n",
    "print('R squared test set', round(ridge.score(X_test, y_test), 2))\n",
    "\n",
    "mean_squared_error(y_test, ridge.predict(X_test))"
   ]
  },
  {
   "cell_type": "markdown",
   "id": "0ab55c49",
   "metadata": {},
   "source": [
    "Applying Ridge shrinkage method on the dataset the R2 score of the model with the shrinked coefficients is 4% on the training set and 1% on the test set. "
   ]
  },
  {
   "cell_type": "markdown",
   "id": "1fc079ab",
   "metadata": {},
   "source": [
    "## Lasso regression\n",
    "\n",
    "Lasso is a shrinkage method that penalizes the parameters linearly, through l1 norm penalization term, instead of  penalizing quadratic as Ridge shrinkage method. \n",
    "The l1 penalty has the effect of forcing some of the coefficient estimates to be exactly equal to zero when the tuning parameter λ is sufficiently large. \n",
    "Lasso is like feature selection since it really removes some parameters, while Ridge regression doesn’t. So Lasso is a hybrid algorithm: it is a shrinkage algorithm but also it sets as much as possible the parameters to 0 (it is not part of the algorithm but a side effect of it).\n",
    "\n",
    "If λ = 0 the lasso gives the least squares fit, while when λ becomes very large the lasso shrinkes all the coefficient estimates equal zero. "
   ]
  },
  {
   "cell_type": "code",
   "execution_count": 49,
   "id": "87d832cc",
   "metadata": {},
   "outputs": [
    {
     "data": {
      "text/plain": [
       "Lasso(alpha=1)"
      ]
     },
     "execution_count": 49,
     "metadata": {},
     "output_type": "execute_result"
    },
    {
     "name": "stdout",
     "output_type": "stream",
     "text": [
      "R squared training set 0.17\n",
      "R squared test set 0.47\n"
     ]
    }
   ],
   "source": [
    "# apply lasso regression on the train set with regularization parameter alpha = 1\n",
    "\n",
    "from sklearn.linear_model import Lasso\n",
    "\n",
    "reg = Lasso(alpha=1)\n",
    "reg.fit(X_train, y_train)\n",
    "\n",
    "print('R squared training set', round(reg.score(X_train, y_train)*100, 2))\n",
    "print('R squared test set', round(reg.score(X_test, y_test)*100, 2))"
   ]
  },
  {
   "cell_type": "code",
   "execution_count": 50,
   "id": "ed168278",
   "metadata": {},
   "outputs": [
    {
     "data": {
      "image/png": "[encoded data removed]",
      "text/plain": [
       "<Figure size 720x360 with 1 Axes>"
      ]
     },
     "metadata": {
      "needs_background": "light"
     },
     "output_type": "display_data"
    }
   ],
   "source": [
    "# Plot the lasso coefficients as a function of alpha\n",
    "\n",
    "alphas = np.linspace(0.01,500,100)\n",
    "lasso = Lasso(max_iter=10000)\n",
    "coefs = []\n",
    "\n",
    "for a in alphas:\n",
    "    lasso.set_params(alpha=a)\n",
    "    lasso.fit(X_train, y_train)\n",
    "    coefs.append(lasso.coef_)\n",
    "\n",
    "ax = plt.gca()\n",
    "\n",
    "ax.plot(alphas, coefs)\n",
    "ax.set_xscale('log')\n",
    "plt.axis('tight')\n",
    "plt.xlabel('alpha')\n",
    "plt.ylabel('Standardized Coefficients')\n",
    "plt.title('Lasso coefficients as a function of alpha');"
   ]
  },
  {
   "cell_type": "markdown",
   "id": "bf6600c8",
   "metadata": {},
   "source": [
    "Depending on the value of alpha the penalization term l1 changes. The consequence of it is visible in this plot: on the left, for very low value of alpha the model returned by lasso contains all the coefficients with high estimates. As alpha starts to increase the coefficient estimates are shrinked towards zero."
   ]
  },
  {
   "cell_type": "code",
   "execution_count": 51,
   "id": "4d90c47e",
   "metadata": {},
   "outputs": [
    {
     "data": {
      "text/plain": [
       "LassoCV(alphas=array([1.00000000e-04, 1.10180361e-03, 2.10360721e-03, 3.10541082e-03,\n",
       "       4.10721443e-03, 5.10901804e-03, 6.11082164e-03, 7.11262525e-03,\n",
       "       8.11442886e-03, 9.11623246e-03, 1.01180361e-02, 1.11198397e-02,\n",
       "       1.21216433e-02, 1.31234469e-02, 1.41252505e-02, 1.51270541e-02,\n",
       "       1.61288577e-02, 1.71306613e-02, 1.81324649e-02, 1.91342685e-02,\n",
       "       2.01360721e-02, 2.11378758e-0...\n",
       "       4.76958517e-01, 4.77960321e-01, 4.78962124e-01, 4.79963928e-01,\n",
       "       4.80965731e-01, 4.81967535e-01, 4.82969339e-01, 4.83971142e-01,\n",
       "       4.84972946e-01, 4.85974749e-01, 4.86976553e-01, 4.87978357e-01,\n",
       "       4.88980160e-01, 4.89981964e-01, 4.90983768e-01, 4.91985571e-01,\n",
       "       4.92987375e-01, 4.93989178e-01, 4.94990982e-01, 4.95992786e-01,\n",
       "       4.96994589e-01, 4.97996393e-01, 4.98998196e-01, 5.00000000e-01]),\n",
       "        cv=10, n_alphas=500)"
      ]
     },
     "execution_count": 51,
     "metadata": {},
     "output_type": "execute_result"
    },
    {
     "name": "stdout",
     "output_type": "stream",
     "text": [
      "The model selected by CV is: ['DMC', 'DC']\n",
      "R squared training set 0.19\n",
      "R squared test set 0.18\n"
     ]
    }
   ],
   "source": [
    "from sklearn import linear_model\n",
    "\n",
    "alpha_vals = np.linspace(1e-4, 0.5, 500)\n",
    "\n",
    "# the best value of alpha (lambda) is selected using cross validation\n",
    "model_lasso = linear_model.LassoCV(n_alphas = len(alpha_vals), alphas=alpha_vals, fit_intercept = True, cv = 10)\n",
    "# lasso model with the best value of alpha is fitted on the train set\n",
    "model_lasso.fit(X_train, y_train)\n",
    "# shrinked coefficients of the lasso model with the best value of alpha \n",
    "coefs = model_lasso.coef_.reshape(-1)\n",
    "\n",
    "lasso_CV_features = []\n",
    "\n",
    "for ind, num in enumerate(coefs):\n",
    "    for i, f in enumerate(X_features):\n",
    "        if num != 0.0 and num != -0.0:\n",
    "            if ind == i:\n",
    "                lasso_CV_features.append(f)\n",
    "\n",
    "print(f'The model selected by CV is: {lasso_CV_features}')\n",
    "\n",
    "print('R squared training set', round(model_lasso.score(X_train, y_train)*100, 2))\n",
    "print('R squared test set', round(model_lasso.score(X_test, y_test)*100, 2))"
   ]
  },
  {
   "cell_type": "markdown",
   "id": "267343c5",
   "metadata": {},
   "source": [
    "Applying Lasso shrinkage method on the dataset the r2 score of the model with the shrinked coefficients is 0.19% on the training set and 0.18% on the test set. \n",
    "The only coefficients that remain different from 0, and so are significant, when the value of lambda is the best one (selected through CV) are: ['DMC', 'DC']"
   ]
  },
  {
   "cell_type": "code",
   "execution_count": 52,
   "id": "91e225ee",
   "metadata": {},
   "outputs": [
    {
     "name": "stdout",
     "output_type": "stream",
     "text": [
      "X.shape  (510, 12)\n",
      "y.shape  (510,)\n",
      "X_train.shape  (357, 12)\n",
      "X_test.shape  (153, 12)\n",
      "       inital coefficients  ridge coefficients  lasso coefficients\n",
      "X                     0.04                0.04            0.000000\n",
      "Y                     0.03                0.03            0.000000\n",
      "month                 0.10                0.10            0.000000\n",
      "day                   0.04                0.04            0.000000\n",
      "FFMC                  0.01                0.01            0.000000\n",
      "DMC                  -0.00               -0.00           -0.000423\n",
      "DC                   -0.00               -0.00            0.000280\n",
      "ISI                  -0.02               -0.02           -0.000000\n",
      "temp                  0.00                0.00           -0.000000\n",
      "RH                    0.00                0.00            0.000000\n",
      "wind                  0.08                0.08            0.000000\n",
      "rain                  0.12                0.09            0.000000\n"
     ]
    }
   ],
   "source": [
    "X = fire[X_features].to_numpy()\n",
    "y = fire['log_area'].to_numpy()\n",
    "print(\"X.shape \", X.shape)\n",
    "print(\"y.shape \", y.shape)\n",
    "\n",
    "fire_test_size = 0.3\n",
    "# the test set will contain the 30% of the total observations present in the original fire dataset\n",
    "fire_test_seed = 40\n",
    "# Split X and y into train and test\n",
    "X_train, X_test, y_train, y_test = train_test_split(X, y, test_size=fire_test_size, random_state=fire_test_seed)\n",
    "print(\"X_train.shape \", X_train.shape)\n",
    "print(\"X_test.shape \", X_test.shape)\n",
    "\n",
    "model = LinearRegression(fit_intercept=True) \n",
    "# first I created the linear regression model object\n",
    "model = model.fit(X_train, y_train) \n",
    "\n",
    "i = np.transpose(model.coef_)\n",
    "r = np.transpose(ridge.coef_)\n",
    "l = coefs\n",
    "coefficients = pd.DataFrame({\"inital coefficients\":np.around(i, decimals=2),\"ridge coefficients\":np.around(r, decimals=2), \"lasso coefficients\":l})\n",
    "coefficients.index = X_features\n",
    "print(coefficients)"
   ]
  },
  {
   "cell_type": "markdown",
   "id": "3461275f",
   "metadata": {},
   "source": [
    "In the table above the coefficients of the initial linear model fitted on the train set are reported as well as the value of the coefficients shrinked using Ridge approach or Lasso.\n",
    "We can clearly see that Ridge regularization reduces the impact of the features on the response but never set the coefficients to 0; on the other end Lasso shrinkage method sets as much as possible the parameters to 0 and in fact the best value of lambda, selected through Cross validation, leads to nullify all the coefficients of the model except two of them."
   ]
  },
  {
   "cell_type": "markdown",
   "id": "d96ef867",
   "metadata": {},
   "source": [
    "## Conclusions:\n",
    "\n",
    "using the logarithmic tranformation of area and converting the categorical variables, month and day, in discrete ones I obtained the following results:\n",
    "\n",
    "- the linear regression model using all the features of the dataset has a r2 score of 3.7% on the train set and of 1% on the test set;\n",
    "- the best linear regression model is the one with degree 1;\n",
    "- the best model according with forward feature selection has 0 features (dummy regressor);\n",
    "- the best model according with forward feature selection with cross validation (and backward feature selection) has 3 features: ['X', 'month', 'wind'];\n",
    "- the linear model with the selected features ['X', 'month', 'wind'] has a r2 score on the train set of 2.7% and on the test set of 1.8%. With this features the best linear model is the one with degree 1;\n",
    "- the linear model with Ridge shrinked coefficients has a r2 score of 4% on the train set and 1% on the test set;\n",
    "- the linear model with Lasso shrinked coefficients has a r2 score of 0.19% on the train set and 0.18% on the test set: the only two coefficients different from 0 are ['DMC', 'DC'].\n",
    "\n",
    "\n",
    "I repeated all the commands above on the same dataset with different pre-processing steps to look for an improvement of the linear regression model performance."
   ]
  },
  {
   "cell_type": "markdown",
   "id": "761084ea",
   "metadata": {},
   "source": [
    "# one-hot encoding of categorical variable day\n",
    "\n",
    "I tried to see if, by converting the categorical variables in dummy ones, the performace of the fitted linear model would improve. \n",
    "Indeed I saw that by converting both of them the result was not good on the test set, so I decided to convert only day in dummy variable keeping month as discrete one."
   ]
  },
  {
   "cell_type": "markdown",
   "id": "23e0e790",
   "metadata": {},
   "source": [
    "Pre-processing steps:"
   ]
  },
  {
   "cell_type": "code",
   "execution_count": 53,
   "id": "24de2029",
   "metadata": {},
   "outputs": [],
   "source": [
    "import matplotlib.pyplot as plt\n",
    "import seaborn as sns\n",
    "import pandas as pd\n",
    "import numpy as np\n",
    "import sklearn\n",
    "import scipy\n",
    "\n",
    "fire = pd.read_csv(\"forestfires.csv\")\n",
    "fire = fire.replace('Missing',np.nan).dropna()\n",
    "\n",
    "fire = fire.astype({\"FFMC\": float})\n",
    "fire = fire.astype({\"DC\": float})\n",
    "fire = fire.astype({\"ISI\": float})\n",
    "fire = fire.astype({\"wind\": float})\n",
    "fire = fire.astype({\"temp\": float})\n",
    "\n",
    "fire['log_area'] = np.log1p(fire['area'])\n",
    "fire = fire.drop(['area'],axis=1)"
   ]
  },
  {
   "cell_type": "code",
   "execution_count": 54,
   "id": "6de445d9",
   "metadata": {},
   "outputs": [],
   "source": [
    "def onehot_feature(pd_data, column_name):\n",
    "    # Retrieve the unique values (the categories) and an index for each sample\n",
    "    # specifying the sample category (values[value_idx] reconstruct the original array)\n",
    "    col_values = pd_data[column_name].to_numpy().astype('<U')\n",
    "    values, value_idx = np.unique(col_values, return_inverse=True)\n",
    "    n_values = values.size\n",
    "    # Create a temporary identity matrix to convert value_idx into one-hot features\n",
    "    onehots = np.eye(n_values,n_values)\n",
    "    value_onehot = onehots[value_idx]\n",
    "    # Remove the categorical feature\n",
    "    pd_data = pd_data.drop(column_name, axis=1)\n",
    "    # Add the new featues\n",
    "    for i in range(n_values):\n",
    "        pd_data[\"{}_{}\".format(column_name, values[i])] = value_onehot[:, i]\n",
    "        \n",
    "    return pd_data\n",
    "\n",
    "# Convert day into a one-hot encoding\n",
    "fire = onehot_feature(fire, 'day')"
   ]
  },
  {
   "cell_type": "code",
   "execution_count": 55,
   "id": "a20da0b0",
   "metadata": {},
   "outputs": [],
   "source": [
    "fire['month'] = fire['month'].replace(['jan','feb','mar','apr','may','jun','jul','aug','sep','oct','nov','dec'],range(1,13))"
   ]
  },
  {
   "cell_type": "code",
   "execution_count": 56,
   "id": "6319fdcb",
   "metadata": {},
   "outputs": [
    {
     "data": {
      "text/plain": [
       "(510, 19)"
      ]
     },
     "execution_count": 56,
     "metadata": {},
     "output_type": "execute_result"
    }
   ],
   "source": [
    "fire.shape"
   ]
  },
  {
   "cell_type": "markdown",
   "id": "431efa2f",
   "metadata": {},
   "source": [
    "After these pre-processing steps I performed the same analysis as before obtaining:\n",
    "\n",
    "- the linear model using all the features of the dataset has a r2 score of 4% on the train set and of 1.7% on the test set;\n",
    "- from the t- test none coefficient is significantly different from 0 and the same result is returned by F-test;\n",
    "- the best linear model is the one with degree 1;\n",
    "- the best model according with forward feature selection has 0 features;\n",
    "- the best model according with forward feature selection with cross validation (and also backword feature selection) has 3 features: ['X', 'month', 'wind'];\n",
    "- the linear model with the features ['X', 'month', 'wind'] has a r2 score on the train set of 2.7% and on the test set of 1.8%. With this features the best linear model is the one with degree 1;\n",
    "- the linear model with Ridge shrinked coefficients has a r2 score of 4% on the training set and 2% on the test set;\n",
    "- the linear model with Lasso shrinked coefficients has a r2 score of 0.19% on the training set and 0.18% on the test set: the only two coefficients different from 0 are the ones of ['DMC', 'DC'].\n"
   ]
  },
  {
   "cell_type": "markdown",
   "id": "b25d9dc8",
   "metadata": {},
   "source": [
    "## Logarithmic transformation of area,  FFMC, ISI and rain variables "
   ]
  },
  {
   "cell_type": "markdown",
   "id": "dc505101",
   "metadata": {},
   "source": [
    "Since these four variables are the ones that present a small percentage of observations with a very high or low value with respect to all the other values of the same variable, I thought to do a logarithmic transformation not only of the variable area but also of these other three to try to understand if, reducing their skweness, there is an improvement in the performance of the linear regression model.\n",
    "\n",
    "The pre-processing steps I performed before using the same workflow of analysis were:"
   ]
  },
  {
   "cell_type": "code",
   "execution_count": 57,
   "id": "c10c1199",
   "metadata": {},
   "outputs": [],
   "source": [
    "from IPython.core.interactiveshell import InteractiveShell\n",
    "InteractiveShell.ast_node_interactivity = \"all\"\n",
    "\n",
    "import matplotlib.pyplot as plt\n",
    "import seaborn as sns\n",
    "import pandas as pd\n",
    "import numpy as np\n",
    "import sklearn\n",
    "import scipy\n",
    "\n",
    "np.random.seed(0)\n",
    "\n",
    "fire = pd.read_csv(\"forestfires.csv\")\n",
    "\n",
    "fire = fire.replace('Missing',np.nan)\n",
    "fire = fire.dropna()\n",
    "\n",
    "fire = fire.astype({\"FFMC\": float})\n",
    "fire = fire.astype({\"DC\": float})\n",
    "fire = fire.astype({\"ISI\": float})\n",
    "fire = fire.astype({\"wind\": float})\n",
    "fire = fire.astype({\"temp\": float})\n",
    "\n",
    "fire['log_area'] = np.log1p(fire['area'])\n",
    "fire = fire.drop(['area'],axis=1)\n",
    "fire['log_FFMC'] = np.log1p(fire['FFMC'])\n",
    "fire = fire.drop(['FFMC'],axis=1)\n",
    "fire['log_rain'] = np.log1p(fire['rain'])\n",
    "fire = fire.drop(['rain'],axis=1)\n",
    "fire['log_ISI'] = np.log1p(fire['ISI'])\n",
    "fire = fire.drop(['ISI'],axis=1)\n",
    "\n",
    "def onehot_feature(pd_data, column_name):\n",
    "    # Retrieve the unique values (the categories) and an index for each sample\n",
    "    # specifying the sample category (values[value_idx] reconstruct the original array)\n",
    "    col_values = pd_data[column_name].to_numpy().astype('<U')\n",
    "    values, value_idx = np.unique(col_values, return_inverse=True)\n",
    "    n_values = values.size\n",
    "    # Create a temporary identity matrix to convert value_idx into one-hot features\n",
    "    onehots = np.eye(n_values,n_values)\n",
    "    value_onehot = onehots[value_idx]\n",
    "    # Remove the categorical feature\n",
    "    pd_data = pd_data.drop(column_name, axis=1)\n",
    "    # Add the new featues\n",
    "    for i in range(n_values):\n",
    "        pd_data[\"{}_{}\".format(column_name, values[i])] = value_onehot[:, i]\n",
    "        \n",
    "    return pd_data\n",
    "\n",
    "# Convert day into a one-hot encoding\n",
    "fire = onehot_feature(fire, 'day')"
   ]
  },
  {
   "cell_type": "code",
   "execution_count": 58,
   "id": "72d10439",
   "metadata": {},
   "outputs": [],
   "source": [
    "fire['month'] = fire['month'].replace(['jan','feb','mar','apr','may','jun','jul','aug','sep','oct','nov','dec'],range(1,13))"
   ]
  },
  {
   "cell_type": "code",
   "execution_count": 59,
   "id": "b3ab8df1",
   "metadata": {},
   "outputs": [
    {
     "data": {
      "text/plain": [
       "(510, 19)"
      ]
     },
     "execution_count": 59,
     "metadata": {},
     "output_type": "execute_result"
    }
   ],
   "source": [
    "fire.shape"
   ]
  },
  {
   "cell_type": "markdown",
   "id": "d5e5e436",
   "metadata": {},
   "source": [
    "After the pre-processing steps the same analysis was performed with the following results:\n",
    "    \n",
    "- the linear model using all the features of the dataset has a r2 score of 3.7% on the train set and of 2% on the test set;\n",
    "- from the t- test none coefficient is significantly different from 0 and the same result is returned by F-test;\n",
    "- the best linear model is the one with degree 1;\n",
    "- the best model according with forward feature selection has 0 features;\n",
    "- the best model according with forward feature selection with cross validation (and backward feature selection) has 3 features: ['X', 'month', 'wind'];\n",
    "- the linear model with the features ['X', 'month', 'wind'] has a r2 score on the train set of 2.7% and on the test set of 1.8%. With this features the best linear model is the one with degree 1;\n",
    "- the linear model with Ridge shrinked coefficients has a r2 score of 3% on the training set and 2% on the test set;\n",
    "- the linear model with Lasso shrinked coefficients has a r2 score of 0.19% on the training set and 0.18% on the test set: the only two coefficients different from 0 are the ones of ['DMC', 'DC'].\n"
   ]
  },
  {
   "cell_type": "markdown",
   "id": "55fa915e",
   "metadata": {},
   "source": [
    "# Standardization of the variables\n",
    "\n",
    "Since the performance of the process of learning from the data is generally better when the features are standardized on the same scale, I performed this pre-processing procedure to understand if there is actually an improvement of the linear regression model in predicting the area.\n",
    "\n",
    "In particular, the standardization was performed after having seen from the summary of the main descriptive statistics of the quantitative variables of the dataset that there was a great difference of scale between the different features. "
   ]
  },
  {
   "cell_type": "code",
   "execution_count": 60,
   "id": "f3bfdd26",
   "metadata": {},
   "outputs": [],
   "source": [
    "from IPython.core.interactiveshell import InteractiveShell\n",
    "InteractiveShell.ast_node_interactivity = \"all\"\n",
    "\n",
    "import matplotlib.pyplot as plt\n",
    "import seaborn as sns\n",
    "import pandas as pd\n",
    "import numpy as np\n",
    "import sklearn\n",
    "import scipy\n",
    "\n",
    "np.random.seed(0)\n",
    "\n",
    "fire = pd.read_csv(\"forestfires.csv\")\n",
    "\n",
    "fire = fire.replace('Missing',np.nan)\n",
    "fire = fire.dropna()\n",
    "\n",
    "fire = fire.astype({\"FFMC\": float})\n",
    "fire = fire.astype({\"DC\": float})\n",
    "fire = fire.astype({\"ISI\": float})\n",
    "fire = fire.astype({\"wind\": float})\n",
    "fire = fire.astype({\"temp\": float})\n",
    "\n",
    "fire['log_area'] = np.log1p(fire['area'])\n",
    "fire = fire.drop(['area'],axis=1)\n",
    "\n",
    "def onehot_feature(pd_data, column_name):\n",
    "    # Retrieve the unique values (the categories) and an index for each sample\n",
    "    # specifying the sample category (values[value_idx] reconstruct the original array)\n",
    "    col_values = pd_data[column_name].to_numpy().astype('<U')\n",
    "    values, value_idx = np.unique(col_values, return_inverse=True)\n",
    "    n_values = values.size\n",
    "    # Create a temporary identity matrix to convert value_idx into one-hot features\n",
    "    onehots = np.eye(n_values,n_values)\n",
    "    value_onehot = onehots[value_idx]\n",
    "    # Remove the categorical feature\n",
    "    pd_data = pd_data.drop(column_name, axis=1)\n",
    "    # Add the new featues\n",
    "    for i in range(n_values):\n",
    "        pd_data[\"{}_{}\".format(column_name, values[i])] = value_onehot[:, i]\n",
    "        \n",
    "    return pd_data\n",
    "\n",
    "# Convert day into a one-hot encoding\n",
    "fire = onehot_feature(fire, 'day')"
   ]
  },
  {
   "cell_type": "code",
   "execution_count": 61,
   "id": "9275041c",
   "metadata": {},
   "outputs": [],
   "source": [
    "fire['month'] = fire['month'].replace(['jan','feb','mar','apr','may','jun','jul','aug','sep','oct','nov','dec'],range(1,13))"
   ]
  },
  {
   "cell_type": "code",
   "execution_count": 62,
   "id": "0fc1b053",
   "metadata": {},
   "outputs": [],
   "source": [
    "X_features = fire.columns.to_list()\n",
    "# list of all the features in the fire dataset \n",
    "X_features.remove('log_area')"
   ]
  },
  {
   "cell_type": "code",
   "execution_count": 63,
   "id": "09b95338",
   "metadata": {},
   "outputs": [
    {
     "name": "stdout",
     "output_type": "stream",
     "text": [
      "X.shape  (510, 18)\n",
      "y.shape  (510,)\n",
      "X_train.shape  (357, 18)\n",
      "X_test.shape  (153, 18)\n"
     ]
    },
    {
     "data": {
      "text/plain": [
       "StandardScaler()"
      ]
     },
     "execution_count": 63,
     "metadata": {},
     "output_type": "execute_result"
    }
   ],
   "source": [
    "from sklearn.model_selection import train_test_split\n",
    "from sklearn.linear_model import LinearRegression\n",
    "from sklearn.metrics import r2_score, mean_squared_error\n",
    "from sklearn.preprocessing import StandardScaler\n",
    "\n",
    "X = fire[X_features].to_numpy()\n",
    "y = fire['log_area'].to_numpy()\n",
    "print(\"X.shape \", X.shape)\n",
    "print(\"y.shape \", y.shape)\n",
    "\n",
    "fire_test_size = 0.3\n",
    "# the test set will contain the 30% of the total observations present in the original fire dataset\n",
    "fire_test_seed = 40\n",
    "# Split X and y into train and test\n",
    "X_train, X_test, y_train, y_test = train_test_split(X, y, test_size=fire_test_size, random_state=fire_test_seed)\n",
    "print(\"X_train.shape \", X_train.shape)\n",
    "print(\"X_test.shape \", X_test.shape)\n",
    "\n",
    "# Standardization procedure\n",
    "sc = StandardScaler() \n",
    "sc.fit(X_train)\n",
    "X_train_std = sc.transform(X_train) \n",
    "X_test_std = sc.transform(X_test)  "
   ]
  },
  {
   "cell_type": "markdown",
   "id": "f795fba0",
   "metadata": {},
   "source": [
    "After this pre-processing procedure the same workflow was computed giving the following results:\n",
    "\n",
    "- the linear model using all the features of the dataset has a r2 score of 4% on the train set and of 1.8% on the test set;\n",
    "- from the t- test none coefficient is significantly different from 0 and the same result is returned by F-test;\n",
    "- the best linear model is the one with degree 1;\n",
    "- the best model according with forward feature selection has 0 features;\n",
    "- the best model according with forward feature selection with cross validation (and backward feature selection) has 3 features: ['X', 'month', 'wind'];\n",
    "- the linear model with the features ['X', 'month', 'wind'] has a r2 score on the train set of 2.7% and on the test set of 1.8%. With this features the best linear model is the one with degree 1;\n",
    "- the linear model with Ridge shrinked coefficients has a r2 score of 4% on the training set and 2% on the test set;\n",
    "- the linear model with Lasso shrinked coefficients has a r2 score of 0.19% on the training set and 0.18% on the test set: the only two coefficients different from 0 are the ones of ['DMC', 'DC'].\n"
   ]
  },
  {
   "cell_type": "markdown",
   "id": "c9d8ca05",
   "metadata": {},
   "source": [
    "# Conclusion"
   ]
  },
  {
   "cell_type": "markdown",
   "id": "840f16c8",
   "metadata": {},
   "source": [
    "In conclusion of my analysis I can say that the linear regression model doesn't have a good performance in predicting the area of the fire using the other variables present into the ForestFire dataset.\n",
    "\n",
    "Here a brief summary of the workflow I executed: first, I performed different pre-processing procedures, all implying the logarithmic transformation of the response variable area - categorical variables converted in discrete ones; one-hot encoding of day variable keeping month discrete; logarithmic transformation of FFMC, ISI and rain variables; standardization of all the quantitative variables of the dataset.\n",
    "Then I splitted the data in train and test set, I used the train set to fit a linear regression model and the test set to compute its performance. \n",
    "I also performed the t-test and F-test on the coefficients of the model to verify if they were significantly different from 0; I analysed for which degree the linear regression model permormed the best.\n",
    "I proceeded with forward and backward feature selection with Cross Validation and by the end with Lasso and Ridge shrinkage methods.\n",
    "\n",
    "Independently from the pre-processing procedure I performed, the fitted linear regression model didn't seem to be able to explain a great percentage of variability of never seen data.\n"
   ]
  },
  {
   "cell_type": "code",
   "execution_count": 64,
   "id": "87d2663c",
   "metadata": {},
   "outputs": [
    {
     "data": {
      "text/plain": [
       "0.000000    240\n",
       "1.078410      3\n",
       "2.394252      2\n",
       "0.518794      2\n",
       "0.357674      2\n",
       "           ... \n",
       "1.564441      1\n",
       "0.802002      1\n",
       "1.166271      1\n",
       "1.244155      1\n",
       "1.190888      1\n",
       "Name: log_area, Length: 251, dtype: int64"
      ]
     },
     "execution_count": 64,
     "metadata": {},
     "output_type": "execute_result"
    }
   ],
   "source": [
    "fire.log_area.value_counts()"
   ]
  },
  {
   "cell_type": "markdown",
   "id": "d70da26d",
   "metadata": {},
   "source": [
    "Probably, the fact that half of values of the variable log_area are 0 and that only few of tham have high values makes difficult to predict the dimension of the fire using a linear multivariate regression model.\n",
    "Some other techniques, like the one used in the reference article - Support Vector Machine -, may work better in predicting the burnt area using these features at disposal."
   ]
  }
 ],
 "metadata": {
  "kernelspec": {
   "display_name": "Python 3",
   "language": "python",
   "name": "python3"
  },
  "language_info": {
   "codemirror_mode": {
    "name": "ipython",
    "version": 3
   },
   "file_extension": ".py",
   "mimetype": "text/x-python",
   "name": "python",
   "nbconvert_exporter": "python",
   "pygments_lexer": "ipython3",
   "version": "3.8.8"
  }
 },
 "nbformat": 4,
 "nbformat_minor": 5
}
